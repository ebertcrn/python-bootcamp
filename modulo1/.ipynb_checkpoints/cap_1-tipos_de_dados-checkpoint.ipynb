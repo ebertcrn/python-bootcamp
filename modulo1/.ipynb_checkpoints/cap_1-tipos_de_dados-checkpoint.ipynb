{
 "cells": [
  {
   "cell_type": "markdown",
   "metadata": {},
   "source": [
    "# Aula 1.4 - Tipos de Dados"
   ]
  },
  {
   "cell_type": "markdown",
   "metadata": {},
   "source": [
    "Quando se atribui um valor a uma variável, estamos atribuindo um objeto do tipo inteiro à variável.\n",
    "\n",
    "Ex:\n",
    "a = 10\n",
    "\n",
    "variável: a\n",
    "\n",
    "objeto do tipo inteiro (referenciado pela variável 'a'): 10\n",
    "\n",
    "### Exemplo:"
   ]
  },
  {
   "cell_type": "code",
   "execution_count": 4,
   "metadata": {},
   "outputs": [
    {
     "name": "stdout",
     "output_type": "stream",
     "text": [
      "0x55a0afc27540\n"
     ]
    }
   ],
   "source": [
    "a = 10\n",
    "\n",
    "print(hex(id(a)))"
   ]
  },
  {
   "cell_type": "code",
   "execution_count": 5,
   "metadata": {},
   "outputs": [
    {
     "name": "stdout",
     "output_type": "stream",
     "text": [
      "0x55a0afc27540\n"
     ]
    }
   ],
   "source": [
    "b = 10\n",
    "\n",
    "print(hex(id(b)))"
   ]
  },
  {
   "cell_type": "markdown",
   "metadata": {},
   "source": [
    "Notamos que as duas variáveis 'a' e 'b' referenciam um **mesmo objeto** do tipo inteiro, localizado na mesma posição de memória **0x55a0afc27540**"
   ]
  },
  {
   "cell_type": "code",
   "execution_count": 6,
   "metadata": {},
   "outputs": [
    {
     "data": {
      "text/plain": [
       "True"
      ]
     },
     "execution_count": 6,
     "metadata": {},
     "output_type": "execute_result"
    }
   ],
   "source": [
    "# verificando\n",
    "hex(id(a)) == hex(id(b))"
   ]
  },
  {
   "cell_type": "markdown",
   "metadata": {},
   "source": [
    "Quando atribuímos um valor à uma variável **x = 1**, e \"atualizamos\" esse valor, isto é, fazemos **x = x + 1**, a variável **x** continua referenciando o mesmo endereço de memória"
   ]
  },
  {
   "cell_type": "code",
   "execution_count": 8,
   "metadata": {},
   "outputs": [
    {
     "name": "stdout",
     "output_type": "stream",
     "text": [
      "0x55a0afc27420\n"
     ]
    }
   ],
   "source": [
    "x = 1\n",
    "\n",
    "print(hex(id(x)))"
   ]
  },
  {
   "cell_type": "code",
   "execution_count": 11,
   "metadata": {},
   "outputs": [
    {
     "name": "stdout",
     "output_type": "stream",
     "text": [
      "0x55a0afc27480\n"
     ]
    }
   ],
   "source": [
    "x = x + 1\n",
    "\n",
    "# x = 2\n",
    "\n",
    "print(hex(id(x)))"
   ]
  },
  {
   "cell_type": "markdown",
   "metadata": {},
   "source": [
    "### Garbage Collector\n",
    "\n",
    "Quando a variável x não mais aponta para o objeto de valor 1, e sim para o novo objeto de valor 2, aquela posição de memória que não é mais referenciada é descartada."
   ]
  },
  {
   "cell_type": "markdown",
   "metadata": {},
   "source": [
    "### Tipos de Dados"
   ]
  },
  {
   "cell_type": "code",
   "execution_count": 19,
   "metadata": {},
   "outputs": [
    {
     "name": "stdout",
     "output_type": "stream",
     "text": [
      "<class 'int'> \n",
      " <class 'float'> \n",
      " <class 'complex'>\n"
     ]
    }
   ],
   "source": [
    "# Numeros\n",
    "\n",
    "a = 5\n",
    "b = 5.0\n",
    "c = 2 + 4j\n",
    "\n",
    "print(type(a),'\\n',type(b),'\\n',type(c))"
   ]
  },
  {
   "cell_type": "code",
   "execution_count": 23,
   "metadata": {},
   "outputs": [
    {
     "name": "stdout",
     "output_type": "stream",
     "text": [
      "<class 'str'>\n"
     ]
    }
   ],
   "source": [
    "# Strings\n",
    "# Aspas simples, duplas ou triplas\n",
    "\n",
    "string1 = 'Fundamentos de Python IGTI'\n",
    "print(type(string1))"
   ]
  },
  {
   "cell_type": "code",
   "execution_count": 26,
   "metadata": {},
   "outputs": [
    {
     "name": "stdout",
     "output_type": "stream",
     "text": [
      " Teste\n",
      "                Aspas\n",
      "                    Triplas\n"
     ]
    }
   ],
   "source": [
    "# com aspas triplas, podemos manter a formatacao\n",
    "\n",
    "string2 = ''' Teste\n",
    "                Aspas\n",
    "                    Triplas'''\n",
    "print(string2)"
   ]
  },
  {
   "cell_type": "markdown",
   "metadata": {},
   "source": [
    "### Acessando elementos de uma string\n",
    "\n",
    "Ex:\n",
    "\n",
    "**INSTITUTOIGTI**\n",
    "\n",
    "0,1,2,3,4,5,6,7,8,9,10,11,12\n",
    "\n",
    "ou\n",
    "\n",
    "-13,-12,-11,-10,-9,-8,-7,-6,-5,-4,-3,-2,-1"
   ]
  },
  {
   "cell_type": "code",
   "execution_count": 29,
   "metadata": {},
   "outputs": [
    {
     "name": "stdout",
     "output_type": "stream",
     "text": [
      "I\n",
      "T\n"
     ]
    }
   ],
   "source": [
    "string3 = 'INSTITUTOIGTI'\n",
    "\n",
    "print(string3[0])\n",
    "print(string3[-2])"
   ]
  },
  {
   "cell_type": "markdown",
   "metadata": {},
   "source": [
    "Não é possível fazer update ou deletar um caracter de uma string, pois esta é imutável.\n",
    "\n",
    "Ex:\n",
    "\n",
    "string3[0] = 'X' # ERRO!\n",
    "\n",
    "del string3[0] # ERRO!"
   ]
  },
  {
   "cell_type": "markdown",
   "metadata": {},
   "source": [
    "### Tipo numérico para string"
   ]
  },
  {
   "cell_type": "code",
   "execution_count": 34,
   "metadata": {},
   "outputs": [
    {
     "name": "stdout",
     "output_type": "stream",
     "text": [
      "<class 'int'>\n"
     ]
    }
   ],
   "source": [
    "inteiro = 10\n",
    "print(type(inteiro))"
   ]
  },
  {
   "cell_type": "code",
   "execution_count": 36,
   "metadata": {},
   "outputs": [
    {
     "name": "stdout",
     "output_type": "stream",
     "text": [
      "<class 'str'>\n"
     ]
    }
   ],
   "source": [
    "str_inteiro = str(inteiro)\n",
    "print(type(str_inteiro))"
   ]
  },
  {
   "cell_type": "markdown",
   "metadata": {},
   "source": [
    "### Listas\n",
    "\n",
    "- Mutáveis\n",
    "\n",
    "- Podem possuir vários tipos de elementos\n",
    "- Ordenadas\n",
    "- Começam com índice[0]"
   ]
  },
  {
   "cell_type": "code",
   "execution_count": 65,
   "metadata": {},
   "outputs": [
    {
     "name": "stdout",
     "output_type": "stream",
     "text": [
      "[1, 'teste 2', [8, 3, 'str']]\n"
     ]
    }
   ],
   "source": [
    "mylist = []\n",
    "mylist.append(1)\n",
    "mylist.append('teste 2')\n",
    "mylist.append([8,3,'str']) # nested lists\n",
    "\n",
    "type(mylist)\n",
    "print(mylist)"
   ]
  },
  {
   "cell_type": "markdown",
   "metadata": {},
   "source": [
    "#### Adicionar elemento com insert()"
   ]
  },
  {
   "cell_type": "code",
   "execution_count": 76,
   "metadata": {},
   "outputs": [
    {
     "name": "stdout",
     "output_type": "stream",
     "text": [
      "['azul', 'verde', 'vermelho', 'amarelo']\n"
     ]
    }
   ],
   "source": [
    "mylist2 = []\n",
    "mylist2.append('azul')\n",
    "mylist2.append('verde')\n",
    "mylist2.append('vermelho')\n",
    "mylist2.append('amarelo')\n",
    "\n",
    "print(mylist2)"
   ]
  },
  {
   "cell_type": "code",
   "execution_count": 77,
   "metadata": {},
   "outputs": [
    {
     "name": "stdout",
     "output_type": "stream",
     "text": [
      "['rosa', 'azul', 'preto', 'verde', 'vermelho', 'amarelo']\n"
     ]
    }
   ],
   "source": [
    "# adicionando elementos \n",
    "mylist2.insert(0, 'rosa')\n",
    "mylist2.insert(2, 'preto')\n",
    "\n",
    "print(mylist2)"
   ]
  },
  {
   "cell_type": "markdown",
   "metadata": {},
   "source": [
    "#### Adicionar elemento com o método extend()"
   ]
  },
  {
   "cell_type": "code",
   "execution_count": 78,
   "metadata": {},
   "outputs": [
    {
     "name": "stdout",
     "output_type": "stream",
     "text": [
      "['rosa', 'azul', 'preto', 'verde', 'vermelho', 'amarelo', 'Branco, #FFFFFF, #000000']\n"
     ]
    }
   ],
   "source": [
    "# permite que vários elementos sejam adicionados ao final da lista\n",
    "mylist2.extend(['Branco, #FFFFFF, #000000'])\n",
    "print(mylist2)"
   ]
  },
  {
   "cell_type": "markdown",
   "metadata": {},
   "source": [
    "#### Acessando um elemento em nested lists"
   ]
  },
  {
   "cell_type": "code",
   "execution_count": 81,
   "metadata": {},
   "outputs": [
    {
     "name": "stdout",
     "output_type": "stream",
     "text": [
      "[1, 'teste 2', [8, 3, 'str']]\n",
      "1\n",
      "[8, 3, 'str']\n"
     ]
    }
   ],
   "source": [
    "print(mylist)\n",
    "print(mylist[0])\n",
    "print(mylist[-1])"
   ]
  },
  {
   "cell_type": "code",
   "execution_count": 79,
   "metadata": {},
   "outputs": [
    {
     "name": "stdout",
     "output_type": "stream",
     "text": [
      "[1, 'teste 2', [8, 3, 'str']]\n"
     ]
    },
    {
     "data": {
      "text/plain": [
       "8"
      ]
     },
     "execution_count": 79,
     "metadata": {},
     "output_type": "execute_result"
    }
   ],
   "source": [
    "print(mylist)\n",
    "mylist[2][0]"
   ]
  },
  {
   "cell_type": "markdown",
   "metadata": {},
   "source": [
    "#### Removendo elementos de uma lista"
   ]
  },
  {
   "cell_type": "code",
   "execution_count": 93,
   "metadata": {},
   "outputs": [
    {
     "name": "stdout",
     "output_type": "stream",
     "text": [
      "[1, 2, 3, 4, 5, 6, 7, 8, 9, 10, 11, 12, 'Azul', 'Verde', 35, 'Amarelo']\n"
     ]
    }
   ],
   "source": [
    "lista = [1,2,3,4,5,6,7,8,9,10,11,12, \n",
    "         'Azul', 'Verde', 35, 'Amarelo']\n",
    "print(lista)"
   ]
  },
  {
   "cell_type": "code",
   "execution_count": 94,
   "metadata": {},
   "outputs": [
    {
     "name": "stdout",
     "output_type": "stream",
     "text": [
      "[1, 2, 3, 4, 6, 7, 8, 9, 10, 11, 12, 'Azul', 35, 'Amarelo']\n"
     ]
    }
   ],
   "source": [
    "# utilizando o metodo remove()\n",
    "# remove a partir do elemento, e não do indice\n",
    "lista.remove(5)\n",
    "lista.remove('Verde')\n",
    "print(lista)"
   ]
  },
  {
   "cell_type": "code",
   "execution_count": 95,
   "metadata": {},
   "outputs": [
    {
     "name": "stdout",
     "output_type": "stream",
     "text": [
      "[1, 2, 3, 4, 6, 7, 8, 9, 10, 11, 12, 'Azul', 35]\n"
     ]
    }
   ],
   "source": [
    "# utilizando o metodo pop()\n",
    "\n",
    "lista.pop() # remove o ultimo elemento da lista\n",
    "print(lista)"
   ]
  },
  {
   "cell_type": "code",
   "execution_count": 97,
   "metadata": {},
   "outputs": [
    {
     "name": "stdout",
     "output_type": "stream",
     "text": [
      "[1, 2, 3, 7, 8, 9, 10, 11, 12, 'Azul', 35]\n"
     ]
    }
   ],
   "source": [
    "lista.pop(3) # remove o elemento de indice 3\n",
    "print(lista)"
   ]
  },
  {
   "cell_type": "markdown",
   "metadata": {},
   "source": [
    "### Tuplas\n",
    "\n",
    "- Imutáveis \n",
    "    - elementos não podem sofrer updates ou serem deletados\n",
    "- Podem possuir vários tipos de elementos"
   ]
  },
  {
   "cell_type": "code",
   "execution_count": 106,
   "metadata": {},
   "outputs": [
    {
     "name": "stdout",
     "output_type": "stream",
     "text": [
      "<class 'tuple'>\n"
     ]
    }
   ],
   "source": [
    "tupla1 = () # tupla vazia\n",
    "\n",
    "print(type(tupla1)) # objeto do tiplo Tupla"
   ]
  },
  {
   "cell_type": "code",
   "execution_count": 105,
   "metadata": {},
   "outputs": [
    {
     "name": "stdout",
     "output_type": "stream",
     "text": [
      "('IGTI', 'Python')\n"
     ]
    }
   ],
   "source": [
    "# tupla com strings\n",
    "tupla1= ('IGTI', 'Python')\n",
    "\n",
    "print(tupla1)"
   ]
  },
  {
   "cell_type": "code",
   "execution_count": 104,
   "metadata": {},
   "outputs": [
    {
     "name": "stdout",
     "output_type": "stream",
     "text": [
      "(1, 2, 3, 4, 5, 6)\n"
     ]
    }
   ],
   "source": [
    "# criar tupla a partir de uma lista\n",
    "lista1 = [1,2,3,4,5,6]\n",
    "tupla1=tuple(lista1)\n",
    "\n",
    "print(tupla1)"
   ]
  },
  {
   "cell_type": "code",
   "execution_count": 107,
   "metadata": {},
   "outputs": [
    {
     "name": "stdout",
     "output_type": "stream",
     "text": [
      "((1, 2, 3, 4), ('Python', 'IGTI'))\n"
     ]
    }
   ],
   "source": [
    "# tuplas aninhadas\n",
    "tupla1 = (1,2,3,4)\n",
    "tupla2 = ('Python', 'IGTI')\n",
    "tupla3 = (tupla1, tupla2)\n",
    "\n",
    "print(tupla3)"
   ]
  },
  {
   "cell_type": "markdown",
   "metadata": {},
   "source": [
    "#### Acessando elementos em uma tupla"
   ]
  },
  {
   "cell_type": "code",
   "execution_count": 112,
   "metadata": {},
   "outputs": [
    {
     "name": "stdout",
     "output_type": "stream",
     "text": [
      "1\n",
      "5\n",
      "4\n"
     ]
    }
   ],
   "source": [
    "tupla1 = tuple([1,2,3,4,5])\n",
    "\n",
    "print(tupla1[0])\n",
    "print(tupla1[-1])\n",
    "print(tupla1[-2])"
   ]
  },
  {
   "cell_type": "markdown",
   "metadata": {},
   "source": [
    "### Set\n",
    "\n",
    "- Desordenados\n",
    "- Mutáveis\n",
    "- Sem elementos duplicados"
   ]
  },
  {
   "cell_type": "code",
   "execution_count": 115,
   "metadata": {},
   "outputs": [
    {
     "name": "stdout",
     "output_type": "stream",
     "text": [
      "Conjunto vazio: \n",
      "set()\n",
      "<class 'set'>\n"
     ]
    }
   ],
   "source": [
    "# criando um conjunto (set)\n",
    "setA = set()\n",
    "\n",
    "print('Conjunto vazio: ')\n",
    "print(setA)\n",
    "print(type(setA))"
   ]
  },
  {
   "cell_type": "code",
   "execution_count": 121,
   "metadata": {},
   "outputs": [
    {
     "name": "stdout",
     "output_type": "stream",
     "text": [
      "Conjunto (set) com uma string: \n",
      "{' ', 'G', 'I', 'i', 't'}\n"
     ]
    }
   ],
   "source": [
    "# criando um set via uma string\n",
    "setA = set('IGti I')\n",
    "\n",
    "print('Conjunto (set) com uma string: ')\n",
    "print(setA)"
   ]
  },
  {
   "cell_type": "code",
   "execution_count": 123,
   "metadata": {},
   "outputs": [
    {
     "name": "stdout",
     "output_type": "stream",
     "text": [
      "Conjunto (set) via lista: \n",
      "{'IGTI', 'Python'}\n"
     ]
    }
   ],
   "source": [
    "# set a partir de uma lista\n",
    "setA = set(['IGTI', 'Python', 'IGTI'])\n",
    "\n",
    "print('Conjunto (set) via lista: ')\n",
    "print(setA)"
   ]
  },
  {
   "cell_type": "code",
   "execution_count": 126,
   "metadata": {},
   "outputs": [
    {
     "name": "stdout",
     "output_type": "stream",
     "text": [
      "Conjunto com valores de tipos diferentes: \n",
      "{1, 2, 4, 6, 'MBA', 'IGTI', 'BOOTCAMP'}\n"
     ]
    }
   ],
   "source": [
    "# set a partir de varios tipos de elementos\n",
    "setA = set([1,2,'IGTI',4,'BOOTCAMP',6,'MBA'])\n",
    "\n",
    "print('Conjunto com valores de tipos diferentes: ')\n",
    "print(setA)"
   ]
  },
  {
   "cell_type": "code",
   "execution_count": 127,
   "metadata": {},
   "outputs": [
    {
     "name": "stdout",
     "output_type": "stream",
     "text": [
      "Conjunto apos adicao de valores: \n",
      "{8, 9, (6, 7)}\n"
     ]
    }
   ],
   "source": [
    "# adicionar elementos a um conjunto\n",
    "setA = set()\n",
    "\n",
    "setA.add(8)\n",
    "setA.add(9)\n",
    "setA.add((6,7))\n",
    "\n",
    "print('Conjunto apos adicao de valores: ')\n",
    "print(setA)"
   ]
  },
  {
   "cell_type": "code",
   "execution_count": 128,
   "metadata": {},
   "outputs": [
    {
     "name": "stdout",
     "output_type": "stream",
     "text": [
      "Utilizando funcao update: \n",
      "{(6, 7), 8, 9, 10, 11}\n"
     ]
    }
   ],
   "source": [
    "# adicionar elementos atraves da funcao update\n",
    "\n",
    "setA.update([10,11]) # adiciona um conjunto de elementos\n",
    "\n",
    "print('Utilizando funcao update: ')\n",
    "print(setA)"
   ]
  },
  {
   "cell_type": "markdown",
   "metadata": {},
   "source": [
    "#### Acessando elementos em um set"
   ]
  },
  {
   "cell_type": "code",
   "execution_count": 129,
   "metadata": {},
   "outputs": [
    {
     "name": "stdout",
     "output_type": "stream",
     "text": [
      "{'MBA', 'IGTI', 'BOOTCAMP'}\n"
     ]
    }
   ],
   "source": [
    "setA = set(['IGTI','BOOTCAMP','MBA'])\n",
    "print(setA)"
   ]
  },
  {
   "cell_type": "code",
   "execution_count": 133,
   "metadata": {},
   "outputs": [
    {
     "name": "stdout",
     "output_type": "stream",
     "text": [
      "MBA IGTI BOOTCAMP "
     ]
    }
   ],
   "source": [
    "for i in setA:\n",
    "    print(i, end=\" \")"
   ]
  },
  {
   "cell_type": "code",
   "execution_count": 134,
   "metadata": {},
   "outputs": [
    {
     "name": "stdout",
     "output_type": "stream",
     "text": [
      "True\n"
     ]
    }
   ],
   "source": [
    "# verificar se um elemento pertence ao set\n",
    "print('IGTI' in setA)"
   ]
  },
  {
   "cell_type": "markdown",
   "metadata": {},
   "source": [
    "#### Removendo elementos de um set"
   ]
  },
  {
   "cell_type": "code",
   "execution_count": 137,
   "metadata": {},
   "outputs": [
    {
     "name": "stdout",
     "output_type": "stream",
     "text": [
      "{1, 2, 3, 4, 7, 8, 9, 10, 11, 12}\n"
     ]
    }
   ],
   "source": [
    "# metodo .remove()\n",
    "setA = set([1,2,3,4,5,6,7,8,9,10,11,12])\n",
    "\n",
    "setA.remove(5)\n",
    "setA.remove(6)\n",
    "\n",
    "print(setA)"
   ]
  },
  {
   "cell_type": "code",
   "execution_count": 139,
   "metadata": {},
   "outputs": [
    {
     "name": "stdout",
     "output_type": "stream",
     "text": [
      "{1, 2, 3, 4, 7, 10, 11, 12}\n"
     ]
    }
   ],
   "source": [
    "# metodo .discard()\n",
    "\n",
    "setA.discard(8)\n",
    "setA.discard(9)\n",
    "\n",
    "print(setA)"
   ]
  },
  {
   "cell_type": "code",
   "execution_count": 140,
   "metadata": {},
   "outputs": [
    {
     "name": "stdout",
     "output_type": "stream",
     "text": [
      "{2, 3, 4, 7, 10, 11, 12}\n"
     ]
    }
   ],
   "source": [
    "# metodo pop() - elimina o primeiro elemento\n",
    "\n",
    "setA.pop()\n",
    "\n",
    "print(setA)"
   ]
  },
  {
   "cell_type": "code",
   "execution_count": 141,
   "metadata": {},
   "outputs": [
    {
     "name": "stdout",
     "output_type": "stream",
     "text": [
      "set()\n"
     ]
    }
   ],
   "source": [
    "# limpar todo o set = metodo .clear()\n",
    "\n",
    "setA.clear()\n",
    "\n",
    "print(setA)"
   ]
  },
  {
   "cell_type": "markdown",
   "metadata": {},
   "source": [
    "#### Operacoes em sets"
   ]
  },
  {
   "cell_type": "code",
   "execution_count": 149,
   "metadata": {},
   "outputs": [
    {
     "name": "stdout",
     "output_type": "stream",
     "text": [
      "uniao:  {1, 2, 3, 4, 5}\n",
      "intersecao:  {3}\n",
      "diferenca:  {1, 2}\n",
      "diferenca simetrica:  {1, 2, 4, 5}\n"
     ]
    }
   ],
   "source": [
    "setA = set([1,2,3])\n",
    "setB = set([3,4,5])\n",
    "\n",
    "# uniao: setA | setB\n",
    "print('uniao: ', setA.union(setB))\n",
    "\n",
    "# intersecao: setA & setB\n",
    "print('intersecao: ', setA.intersection(setB))\n",
    "\n",
    "# diferenca: setA - setB (elementos presentes APENAS no setA)\n",
    "print('diferenca: ', setA.difference(setB))\n",
    "\n",
    "# diferenca simetrica (elementos exclusivos do setA + elementos exclusivos do setB)\n",
    "print('diferenca simetrica: ', setA.symmetric_difference(setB))"
   ]
  },
  {
   "cell_type": "markdown",
   "metadata": {},
   "source": [
    "### Dicionarios\n",
    "- não ordenados\n",
    "- armazena o par: CHAVE/VALOR (KEY/VALUE)\n",
    "- As chaves nao podem ser repetidas\n",
    "- podem armazenar varios tipos de dados"
   ]
  },
  {
   "cell_type": "code",
   "execution_count": 156,
   "metadata": {},
   "outputs": [
    {
     "name": "stdout",
     "output_type": "stream",
     "text": [
      "{1: 'IGTI', 2: 'BOOTCAMP', 3: 'IGTI', 'myKey': 2018}\n"
     ]
    }
   ],
   "source": [
    "# criando dicionario vazio\n",
    "dic = {} \n",
    "\n",
    "# criando um dicionario com key/values\n",
    "dic = dict({1: 'IGTI', 2: 'BOOTCAMP', 3: 'IGTI', \n",
    "      'myKey': 2018})\n",
    "\n",
    "print(dic)"
   ]
  },
  {
   "cell_type": "code",
   "execution_count": 157,
   "metadata": {},
   "outputs": [
    {
     "name": "stdout",
     "output_type": "stream",
     "text": [
      "{1: 'IGTI', 2: 'BOOTCAMP'}\n"
     ]
    }
   ],
   "source": [
    "# Criando dicionarios com tuples (key,value)\n",
    "myDict = dict([(1,'IGTI'), (2,'BOOTCAMP')])\n",
    "\n",
    "print(myDict)"
   ]
  },
  {
   "cell_type": "code",
   "execution_count": 160,
   "metadata": {},
   "outputs": [
    {
     "name": "stdout",
     "output_type": "stream",
     "text": [
      "{0: 'IGTI', 2: 'BOOTCAMP', 3: 1}\n"
     ]
    }
   ],
   "source": [
    "# adicionando elementos\n",
    "myDict = dict()\n",
    "\n",
    "# myDict[Key] = Value\n",
    "myDict[0] = 'IGTI' # [0] é o valor da chave, nao o index\n",
    "myDict[2] = 'BOOTCAMP'\n",
    "myDict[3] = 1\n",
    "\n",
    "print(myDict)"
   ]
  },
  {
   "cell_type": "code",
   "execution_count": 162,
   "metadata": {},
   "outputs": [
    {
     "name": "stdout",
     "output_type": "stream",
     "text": [
      "{0: 'IGTI', 2: 'MBA', 3: 1}\n"
     ]
    }
   ],
   "source": [
    "# atualizando elementos\n",
    "\n",
    "#myDict[Key] = NewValue\n",
    "myDict[2] = 'MBA'\n",
    "\n",
    "print(myDict)"
   ]
  },
  {
   "cell_type": "markdown",
   "metadata": {},
   "source": [
    "#### Acessando elementos em um dicionario"
   ]
  },
  {
   "cell_type": "code",
   "execution_count": 166,
   "metadata": {},
   "outputs": [
    {
     "data": {
      "text/plain": [
       "'Verde'"
      ]
     },
     "execution_count": 166,
     "metadata": {},
     "output_type": "execute_result"
    }
   ],
   "source": [
    "myDict = {'a': 'Azul',\n",
    "         'v': 'Verde',\n",
    "         'r': 'Rosa'}\n",
    "\n",
    "# acessando atraves da Key\n",
    "myDict['a'] # Azul\n",
    "\n",
    "# acessando atraves do metodo get()\n",
    "myDict.get('v') # Verde"
   ]
  },
  {
   "cell_type": "markdown",
   "metadata": {},
   "source": [
    "#### Removendo elementos de um dicionario"
   ]
  },
  {
   "cell_type": "code",
   "execution_count": 181,
   "metadata": {},
   "outputs": [
    {
     "name": "stdout",
     "output_type": "stream",
     "text": [
      "{1: 'IGIT', 2: 'BOOTCAMP', 3: 'MBA', 'brasil': {'v': 'verde', 'a': 'azul', 'am': 'amarelo'}, 'minas': {'vm': 'vermelho', 'b': 'branco'}}\n"
     ]
    }
   ],
   "source": [
    "myDict = {1: 'IGIT',\n",
    "         2: 'BOOTCAMP',\n",
    "         3: 'MBA',\n",
    "         'brasil': {'v': 'verde', 'a': 'azul', 'am':'amarelo'},\n",
    "         'minas': {'vm': 'vermelho', 'b': 'branco'}}\n",
    "print(myDict)"
   ]
  },
  {
   "cell_type": "code",
   "execution_count": 182,
   "metadata": {},
   "outputs": [
    {
     "name": "stdout",
     "output_type": "stream",
     "text": [
      "{1: 'IGIT', 'brasil': {'v': 'verde', 'a': 'azul', 'am': 'amarelo'}, 'minas': {'vm': 'vermelho', 'b': 'branco'}}\n"
     ]
    }
   ],
   "source": [
    "# deletando um Value pela Key\n",
    "del myDict[3] # deleta  3: 'MBA'\n",
    "\n",
    "# deletando uma Key com o metodo pop()\n",
    "myDict.pop(2) # deleta 2: 'BOOTCAMP'\n",
    "\n",
    "print(myDict)"
   ]
  },
  {
   "cell_type": "code",
   "execution_count": 183,
   "metadata": {},
   "outputs": [
    {
     "name": "stdout",
     "output_type": "stream",
     "text": [
      "{1: 'IGIT', 'brasil': {'v': 'verde', 'a': 'azul', 'am': 'amarelo'}}\n"
     ]
    }
   ],
   "source": [
    "# deletando um valor arbitrario\n",
    "myDict.popitem()\n",
    "\n",
    "print(myDict)"
   ]
  },
  {
   "cell_type": "code",
   "execution_count": 184,
   "metadata": {},
   "outputs": [
    {
     "name": "stdout",
     "output_type": "stream",
     "text": [
      "{}\n"
     ]
    }
   ],
   "source": [
    "# limpando o dicionario\n",
    "myDict.clear()\n",
    "\n",
    "print(myDict)"
   ]
  },
  {
   "cell_type": "markdown",
   "metadata": {},
   "source": [
    "### Comandos de entrada de dados\n",
    "\n",
    "- int()\n",
    "- float()\n",
    "- str()"
   ]
  },
  {
   "cell_type": "code",
   "execution_count": 189,
   "metadata": {},
   "outputs": [
    {
     "name": "stdout",
     "output_type": "stream",
     "text": [
      "Entre com seu nome: Ebert\n",
      "My name is:  Ebert\n"
     ]
    }
   ],
   "source": [
    "# input() sempre armazena type(str)\n",
    "name = input('Entre com seu nome: ')\n",
    "print('My name is: ', name)"
   ]
  },
  {
   "cell_type": "code",
   "execution_count": 193,
   "metadata": {},
   "outputs": [
    {
     "name": "stdout",
     "output_type": "stream",
     "text": [
      "Entre com sua idade: 123\n",
      "sua idade é:  123\n"
     ]
    }
   ],
   "source": [
    "# input() como integer com o metodo int()\n",
    "age = int(input('Entre com sua idade: '))\n",
    "print('sua idade é: ', age)"
   ]
  },
  {
   "cell_type": "code",
   "execution_count": 197,
   "metadata": {},
   "outputs": [
    {
     "name": "stdout",
     "output_type": "stream",
     "text": [
      "Base: 10\n",
      "Expoente: 2\n",
      "100.0\n"
     ]
    }
   ],
   "source": [
    "# input() como ponto flutuante float()\n",
    "base = float(input('Base: '))\n",
    "expoente = float(input('Expoente: '))\n",
    "resultado = base**expoente\n",
    "print(resultado)"
   ]
  }
 ],
 "metadata": {
  "kernelspec": {
   "display_name": "Python 3",
   "language": "python",
   "name": "python3"
  },
  "language_info": {
   "codemirror_mode": {
    "name": "ipython",
    "version": 3
   },
   "file_extension": ".py",
   "mimetype": "text/x-python",
   "name": "python",
   "nbconvert_exporter": "python",
   "pygments_lexer": "ipython3",
   "version": "3.7.6"
  }
 },
 "nbformat": 4,
 "nbformat_minor": 2
}
