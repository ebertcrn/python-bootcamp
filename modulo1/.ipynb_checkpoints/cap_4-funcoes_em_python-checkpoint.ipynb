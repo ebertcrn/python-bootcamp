{
 "cells": [
  {
   "cell_type": "markdown",
   "metadata": {},
   "source": [
    "# Aula 4.1 - Introdução"
   ]
  },
  {
   "cell_type": "markdown",
   "metadata": {},
   "source": [
    "Função:\n",
    "\n",
    "    def doSomething():\n",
    "        value = 1\n",
    "        return value\n",
    "        \n",
    "Exemplo:"
   ]
  },
  {
   "cell_type": "code",
   "execution_count": 1,
   "metadata": {},
   "outputs": [],
   "source": [
    "def eqReta(x):\n",
    "    return 2*x+1"
   ]
  },
  {
   "cell_type": "code",
   "execution_count": 2,
   "metadata": {},
   "outputs": [
    {
     "name": "stdout",
     "output_type": "stream",
     "text": [
      "[3, 5, 7, 9, 11, 13]\n"
     ]
    }
   ],
   "source": [
    "# aplicando varios valores à função\n",
    "lista_x = [1,2,3,4,5,6]\n",
    "lista_y = []\n",
    "\n",
    "for i in lista_x:\n",
    "    lista_y.append(eqReta(lista_x[i-1]))\n",
    "\n",
    "print(lista_y)"
   ]
  },
  {
   "cell_type": "markdown",
   "metadata": {},
   "source": [
    "#### Atenção\n",
    "É possível fazer um for loop varrendo 2 listas simultaneamente. Ex:\n",
    "\n",
    "    for x,y in zip(lista_x, lista_y):\n",
    "        print(\"Valor de y(%.2f): %1.2f\" %(x, y))\n",
    "        \n",
    "Esse trecho de código funciona como se fossem 2 for loops exclusivos para a lista_x e para a lista_y."
   ]
  },
  {
   "cell_type": "code",
   "execution_count": 3,
   "metadata": {},
   "outputs": [
    {
     "name": "stdout",
     "output_type": "stream",
     "text": [
      "Valor de y(1.00): 3.00\n",
      "Valor de y(2.00): 5.00\n",
      "Valor de y(3.00): 7.00\n",
      "Valor de y(4.00): 9.00\n",
      "Valor de y(5.00): 11.00\n",
      "Valor de y(6.00): 13.00\n"
     ]
    }
   ],
   "source": [
    "for x,y in zip(lista_x, lista_y):\n",
    "    print(\"Valor de y(%.2f): %1.2f\" %(x, y))"
   ]
  },
  {
   "cell_type": "markdown",
   "metadata": {},
   "source": [
    "# Aula 4.2 - Construindo Funções em Python"
   ]
  },
  {
   "cell_type": "markdown",
   "metadata": {},
   "source": [
    "### Pontos a serem observados quando criamos funções\n",
    "\n",
    "\n",
    "**1) Qual será o nome da função?** O nome deve fazer sentido!\n",
    "\n",
    "**2) Quais argumentos a função deve receber?** Definir os valores a serem passados para a função\n",
    "\n",
    "**3) O quê a função deve fazer?** Definir o papel da função em nosso programa.\n",
    "\n",
    "**4) O quê a função deve retornar?** Após realizar o processamento, qual o valor esperado da função?"
   ]
  },
  {
   "cell_type": "code",
   "execution_count": 4,
   "metadata": {},
   "outputs": [],
   "source": [
    "def valorAbsoluto(x):\n",
    "    return abs(x)"
   ]
  },
  {
   "cell_type": "code",
   "execution_count": 5,
   "metadata": {},
   "outputs": [
    {
     "name": "stdout",
     "output_type": "stream",
     "text": [
      "300\n"
     ]
    }
   ],
   "source": [
    "def minhaFuncao():\n",
    "    variavel_interna = 300\n",
    "\n",
    "    def funcaoInterna():\n",
    "        print(variavel_interna)\n",
    "    funcaoInterna()\n",
    "\n",
    "minhaFuncao()        "
   ]
  },
  {
   "cell_type": "markdown",
   "metadata": {},
   "source": [
    "#### Escopo Global"
   ]
  },
  {
   "cell_type": "code",
   "execution_count": 6,
   "metadata": {},
   "outputs": [
    {
     "name": "stdout",
     "output_type": "stream",
     "text": [
      "300\n",
      "300\n"
     ]
    }
   ],
   "source": [
    "variavel_externa = 300\n",
    "\n",
    "def minha_funcao():\n",
    "    print(variavel_externa)\n",
    "minha_funcao()\n",
    "\n",
    "print(variavel_externa)"
   ]
  },
  {
   "cell_type": "code",
   "execution_count": 7,
   "metadata": {},
   "outputs": [
    {
     "name": "stdout",
     "output_type": "stream",
     "text": [
      "200\n",
      "400\n"
     ]
    }
   ],
   "source": [
    "variavel = 400\n",
    "\n",
    "def minha_funcao():\n",
    "    variavel = 200\n",
    "    print(variavel)\n",
    "minha_funcao()\n",
    "\n",
    "print(variavel)"
   ]
  },
  {
   "cell_type": "code",
   "execution_count": 8,
   "metadata": {},
   "outputs": [
    {
     "name": "stdout",
     "output_type": "stream",
     "text": [
      "300\n"
     ]
    }
   ],
   "source": [
    "# utilizando a palavra global\n",
    "\n",
    "def minha_funcao():\n",
    "    global variavel_global # utiliza a palavra-chave global para definir uma variável global no escopo da função\n",
    "    variavel_global = 300\n",
    "minha_funcao()\n",
    "\n",
    "print(variavel_global)"
   ]
  },
  {
   "cell_type": "code",
   "execution_count": 9,
   "metadata": {},
   "outputs": [
    {
     "name": "stdout",
     "output_type": "stream",
     "text": [
      "200\n"
     ]
    }
   ],
   "source": [
    "# trocando o valor da variável global dentro da função\n",
    "x = 300\n",
    "\n",
    "def minha_funcao():\n",
    "    global x\n",
    "    x = 200\n",
    "minha_funcao()\n",
    "\n",
    "print(x)"
   ]
  },
  {
   "cell_type": "markdown",
   "metadata": {},
   "source": [
    "# Aula 4.3 - Pilha (\"Stack\") em Python\n",
    "\n",
    "- **FIFO:** First in, first out (como uma pilha de pratos, por exemplo)\n",
    "\n",
    "Quando iniciamos um programa, com uma definição de uma função, segue o fluxo normal de execução.\n",
    "\n",
    "Quando essa função é chamada, essa função vai para o topo da pilha. É, então, executada e após seu return, a função é retirada da pilha."
   ]
  },
  {
   "cell_type": "code",
   "execution_count": 13,
   "metadata": {},
   "outputs": [
    {
     "name": "stdout",
     "output_type": "stream",
     "text": [
      "E\n",
      "bE\n",
      "ebE\n",
      "rebE\n",
      "trebE\n"
     ]
    },
    {
     "data": {
      "text/plain": [
       "'trebE'"
      ]
     },
     "execution_count": 13,
     "metadata": {},
     "output_type": "execute_result"
    }
   ],
   "source": [
    "# função que inverte o valor de uma string\n",
    "def inverte_string(valor_string):\n",
    "    resultado = ''\n",
    "    for char in valor_string:\n",
    "        resultado = char + resultado\n",
    "        print(resultado)\n",
    "    return resultado\n",
    "\n",
    "inverte_string('Ebert')"
   ]
  },
  {
   "cell_type": "markdown",
   "metadata": {},
   "source": [
    "#### Predicate Functions\n",
    "\n",
    "Funções que retornam True ou False"
   ]
  },
  {
   "cell_type": "code",
   "execution_count": 14,
   "metadata": {},
   "outputs": [],
   "source": [
    "def verifica_divisibilidade(x,y):\n",
    "    x_divisivel_y = False\n",
    "\n",
    "    if x % y == 0:\n",
    "        x_divisivel_y = True\n",
    "\n",
    "    return x_divisivel_y"
   ]
  },
  {
   "cell_type": "code",
   "execution_count": 17,
   "metadata": {},
   "outputs": [
    {
     "data": {
      "text/plain": [
       "True"
      ]
     },
     "execution_count": 17,
     "metadata": {},
     "output_type": "execute_result"
    }
   ],
   "source": [
    "num1 = 800\n",
    "num2 = 100\n",
    "\n",
    "verifica_divisibilidade(num1,num2)"
   ]
  },
  {
   "cell_type": "code",
   "execution_count": 20,
   "metadata": {},
   "outputs": [],
   "source": [
    "# versão reduzida\n",
    "def verifica_divisibilidade2(x,y):\n",
    "    return x % y == 0"
   ]
  },
  {
   "cell_type": "code",
   "execution_count": 22,
   "metadata": {},
   "outputs": [
    {
     "data": {
      "text/plain": [
       "True"
      ]
     },
     "execution_count": 22,
     "metadata": {},
     "output_type": "execute_result"
    }
   ],
   "source": [
    "num1 = 19\n",
    "num2 = 19\n",
    "\n",
    "verifica_divisibilidade2(num1,num2)"
   ]
  },
  {
   "cell_type": "markdown",
   "metadata": {},
   "source": [
    "# Aula 4.4 - Tipos de Desenvolvimento de Código"
   ]
  },
  {
   "cell_type": "markdown",
   "metadata": {},
   "source": [
    "#### Top-Down\n",
    "\n",
    "- Programa completo é dividido em partes menores\n",
    "\n",
    "- Normalmente utilizado em programação estruturada\n",
    "\n",
    "- Cada parte é programada separadamente, o que gera redundância\n",
    "\n",
    "- Baseado em 'decomposição'\n",
    "\n",
    "\n",
    "#### Bottom-Top\n",
    "\n",
    "- Partes menores são resolvidas e integradas para um programa maior\n",
    "\n",
    "- Normalmente utilizada em programação orientada a objeto\n",
    "\n",
    "- Redundância é minimizada devido a técnicas de encapsulamento\n",
    "\n",
    "- Baseado em 'composição'"
   ]
  },
  {
   "cell_type": "code",
   "execution_count": 31,
   "metadata": {},
   "outputs": [
    {
     "name": "stdout",
     "output_type": "stream",
     "text": [
      "[10, 20, 30, 40]\n"
     ]
    }
   ],
   "source": [
    "# construa um programa capaz de encontrar, através de uma lista de valores, quais são os valores divisíveis nesta lista\n",
    "s = '10 20 30 40'\n",
    "lista_valores = []\n",
    "\n",
    "for x in s.split():\n",
    "    lista_valores.append(int(x))\n",
    "\n",
    "print(lista_valores)\n",
    "\n",
    "# vamos criar o escopo para este programa!"
   ]
  },
  {
   "cell_type": "code",
   "execution_count": 27,
   "metadata": {},
   "outputs": [],
   "source": [
    "# construindo o programa via bottom-up\n",
    "\n",
    "def verifica_divisibilidade(x,y):\n",
    "    return int(y) % int(x) == 0"
   ]
  },
  {
   "cell_type": "code",
   "execution_count": 28,
   "metadata": {},
   "outputs": [],
   "source": [
    "# em um modelo de bottom-up\n",
    "# definindo uma fç que retorna a lista com os valores da lista que são divisores de x\n",
    "\n",
    "def elementos_divisiveis(x,lista):\n",
    "    resultado = []\n",
    "    \n",
    "    for elemento in lista:\n",
    "        if verifica_divisibilidade(elemento, x):\n",
    "            resultado.append(elemento)\n",
    "    return resultado"
   ]
  },
  {
   "cell_type": "code",
   "execution_count": 33,
   "metadata": {},
   "outputs": [],
   "source": [
    "# funcao que recebe uma lista de valores e retorna quem são os divisores\n",
    "\n",
    "def divisores_em_lista(lista):\n",
    "    for elemento in lista:\n",
    "        print(elemento, ' é divisível por ', end=\" \")\n",
    "        elementos = elementos_divisiveis(elemento,lista)\n",
    "        for f in elementos:\n",
    "            print(f, end=' ')\n",
    "        print()"
   ]
  },
  {
   "cell_type": "code",
   "execution_count": 37,
   "metadata": {},
   "outputs": [
    {
     "name": "stdout",
     "output_type": "stream",
     "text": [
      "1  é divisível por  1 \n",
      "2  é divisível por  1 2 \n",
      "3  é divisível por  1 3 \n",
      "4  é divisível por  1 2 4 \n",
      "5  é divisível por  1 5 \n",
      "6  é divisível por  1 2 3 6 \n"
     ]
    }
   ],
   "source": [
    "# rodando o programa completo\n",
    "\n",
    "s = '1 2 3 4 5 6'\n",
    "lista_valores = []\n",
    "\n",
    "for x in s.split():\n",
    "    lista_valores.append(int(x))\n",
    "\n",
    "divisores_em_lista(lista_valores)"
   ]
  },
  {
   "cell_type": "markdown",
   "metadata": {},
   "source": [
    "# Aula 4.5 - Funções Recursivas\n",
    "\n",
    "- Funções recursivas\n",
    "\n",
    "- Função main()"
   ]
  },
  {
   "cell_type": "code",
   "execution_count": 52,
   "metadata": {},
   "outputs": [
    {
     "name": "stdout",
     "output_type": "stream",
     "text": [
      "120\n"
     ]
    }
   ],
   "source": [
    "# função fatorial\n",
    "\n",
    "def fatorial(n):\n",
    "    if n==0:\n",
    "        return 1\n",
    "\n",
    "    return n*fatorial(n-1)\n",
    "\n",
    "print(fatorial(5))"
   ]
  },
  {
   "cell_type": "code",
   "execution_count": 53,
   "metadata": {},
   "outputs": [],
   "source": [
    "# forma reduzida\n",
    "def fat(n):\n",
    "    return 1 if n==0 else n*fat(n-1)"
   ]
  },
  {
   "cell_type": "markdown",
   "metadata": {},
   "source": [
    "#### A função main()"
   ]
  },
  {
   "cell_type": "code",
   "execution_count": 55,
   "metadata": {},
   "outputs": [
    {
     "name": "stdout",
     "output_type": "stream",
     "text": [
      "Hello, World!\n"
     ]
    }
   ],
   "source": [
    "def main():\n",
    "    print('Hello, World!')\n",
    "\n",
    "# define o contexto em que estamos trabalhando\n",
    "# Em python não é necessário. Bastaria apenas chamar a função main()\n",
    "if __name__ == '__main__':\n",
    "    main()"
   ]
  },
  {
   "cell_type": "code",
   "execution_count": 56,
   "metadata": {},
   "outputs": [
    {
     "name": "stdout",
     "output_type": "stream",
     "text": [
      "A variável __name__ informa qual é o contexto em que estamos executando o arquivo.\n",
      "O valor da variável __name__ é:  '__main__'\n"
     ]
    }
   ],
   "source": [
    "# identificando o contexto em que estamos trabalhando\n",
    "print('A variável __name__ informa qual é o contexto em que estamos executando o arquivo.')\n",
    "print('O valor da variável __name__ é: ',repr(__name__))"
   ]
  },
  {
   "cell_type": "code",
   "execution_count": 58,
   "metadata": {},
   "outputs": [
    {
     "name": "stdout",
     "output_type": "stream",
     "text": [
      "Lendo dados da web\n",
      "Iniciando o processamento de algum dado...\n",
      "Processamento do dado terminado.\n",
      "Armazenando dados em um database\n",
      "Dados da web lidos o dado foi modificado\n"
     ]
    }
   ],
   "source": [
    "# Utilizando a função main() para deixar o código mais limpo\n",
    "from time import sleep\n",
    "\n",
    "def process_data(data):\n",
    "    print('Iniciando o processamento de algum dado...')\n",
    "    modified_data = data + ' o dado foi modificado'\n",
    "    sleep(3)\n",
    "    print('Processamento do dado terminado.')\n",
    "    return modified_data\n",
    "\n",
    "def read_data_from_web():\n",
    "    print('Lendo dados da web')\n",
    "    data = 'Dados da web lidos'\n",
    "    return data\n",
    "\n",
    "def write_data_to_database(data):\n",
    "    print('Armazenando dados em um database')\n",
    "    print(data)\n",
    "    \n",
    "def main():\n",
    "    data = read_data_from_web()\n",
    "    modified_data = process_data(data)\n",
    "    write_data_to_database(modified_data)\n",
    "    \n",
    "if __name__ == '__main__':\n",
    "    main()"
   ]
  },
  {
   "cell_type": "markdown",
   "metadata": {},
   "source": [
    "# Aula 4.6 - Argumentos em Python\n",
    "\n",
    "- Default Arguments\n",
    "\n",
    "- Keyword Arguments\n",
    "\n",
    "- Arbitrary Arguments"
   ]
  },
  {
   "cell_type": "code",
   "execution_count": 63,
   "metadata": {},
   "outputs": [
    {
     "name": "stdout",
     "output_type": "stream",
     "text": [
      "Olá, Maria! Bom dia\n"
     ]
    }
   ],
   "source": [
    "# exemplo de funcao com 2 parâmetros\n",
    "def concatena_nome(nome, msg):\n",
    "    print('Olá,', nome + '!', msg)\n",
    "    \n",
    "# chamando a função corretamente\n",
    "concatena_nome('Maria', 'Bom dia')"
   ]
  },
  {
   "cell_type": "code",
   "execution_count": 64,
   "metadata": {},
   "outputs": [
    {
     "ename": "TypeError",
     "evalue": "concatena_nome() missing 1 required positional argument: 'msg'",
     "output_type": "error",
     "traceback": [
      "\u001b[0;31m---------------------------------------------------------------------------\u001b[0m",
      "\u001b[0;31mTypeError\u001b[0m                                 Traceback (most recent call last)",
      "\u001b[0;32m<ipython-input-64-22a98b6a7d01>\u001b[0m in \u001b[0;36m<module>\u001b[0;34m\u001b[0m\n\u001b[1;32m      1\u001b[0m \u001b[0;31m# chamando a função com apenas 1 parâmetro\u001b[0m\u001b[0;34m\u001b[0m\u001b[0;34m\u001b[0m\u001b[0;34m\u001b[0m\u001b[0m\n\u001b[0;32m----> 2\u001b[0;31m \u001b[0mconcatena_nome\u001b[0m\u001b[0;34m(\u001b[0m\u001b[0;34m'Maria'\u001b[0m\u001b[0;34m)\u001b[0m\u001b[0;34m\u001b[0m\u001b[0;34m\u001b[0m\u001b[0m\n\u001b[0m",
      "\u001b[0;31mTypeError\u001b[0m: concatena_nome() missing 1 required positional argument: 'msg'"
     ]
    }
   ],
   "source": [
    "# chamando a função com apenas 1 parâmetro\n",
    "concatena_nome('Maria')"
   ]
  },
  {
   "cell_type": "markdown",
   "metadata": {},
   "source": [
    "### Em Python existem 3 formas distintase definir uma quantidade variável de argumentos\n",
    "\n",
    "**1) Default Arguments:**"
   ]
  },
  {
   "cell_type": "code",
   "execution_count": 65,
   "metadata": {},
   "outputs": [
    {
     "name": "stdout",
     "output_type": "stream",
     "text": [
      "Olá, Maria! Boa noite!\n"
     ]
    }
   ],
   "source": [
    "def concatena_nome_msg(nome, msg = 'Bom dia!'): # a função possui 2 parâmetros\n",
    "    print('Olá,', nome + '!', msg)\n",
    "    \n",
    "# chamando a função com outros valores\n",
    "concatena_nome_msg(\"Maria\", 'Boa noite!')"
   ]
  },
  {
   "cell_type": "code",
   "execution_count": 66,
   "metadata": {},
   "outputs": [
    {
     "name": "stdout",
     "output_type": "stream",
     "text": [
      "Olá, Maria! Bom dia!\n"
     ]
    }
   ],
   "source": [
    "# chamando a função com apenas 1 argumento\n",
    "concatena_nome_msg('Maria')"
   ]
  },
  {
   "cell_type": "markdown",
   "metadata": {},
   "source": [
    "**2) Keyword Arguments (posição dos argumentos)**"
   ]
  },
  {
   "cell_type": "code",
   "execution_count": 67,
   "metadata": {},
   "outputs": [],
   "source": [
    "def concatena_nome_msg(nome, msg):\n",
    "    print('Olá,', nome + '!', msg)\n",
    "    \n",
    "# 1o argumento é p/ nome e o 2o p/ msg"
   ]
  },
  {
   "cell_type": "markdown",
   "metadata": {},
   "source": [
    "**3) Arbitrary Arguments**\n",
    "\n",
    "        *args\n",
    "        **kwargs"
   ]
  },
  {
   "cell_type": "code",
   "execution_count": 73,
   "metadata": {},
   "outputs": [
    {
     "name": "stdout",
     "output_type": "stream",
     "text": [
      "Olá, Maria! Bom dia!\n",
      "Olá, Antonio! Bom dia!\n",
      "Olá, Luiz! Bom dia!\n"
     ]
    }
   ],
   "source": [
    "# *arg: não foi informado para a função o número exato de argumentos\n",
    "def print_nomes_usuarios(*nomes):\n",
    "    \n",
    "    for nome in nomes:\n",
    "        print('Olá,', nome + '! Bom dia!')\n",
    "    \n",
    "# chamando a função corretamente\n",
    "print_nomes_usuarios(\"Maria\", 'Antonio', 'Luiz')"
   ]
  },
  {
   "cell_type": "code",
   "execution_count": 74,
   "metadata": {},
   "outputs": [
    {
     "name": "stdout",
     "output_type": "stream",
     "text": [
      "{'a': 12, 'b': 'abc'}\n"
     ]
    }
   ],
   "source": [
    "# **kwargs: não se sabe a quantidade de variáveis que vai ser utilizada na função. O usuário que vai determinar.\n",
    "# exemplo: dicionário\n",
    "def minha_funcao(**kwargs):\n",
    "    print(str(kwargs))\n",
    "\n",
    "minha_funcao(a=12, b='abc')"
   ]
  }
 ],
 "metadata": {
  "kernelspec": {
   "display_name": "Python 3",
   "language": "python",
   "name": "python3"
  },
  "language_info": {
   "codemirror_mode": {
    "name": "ipython",
    "version": 3
   },
   "file_extension": ".py",
   "mimetype": "text/x-python",
   "name": "python",
   "nbconvert_exporter": "python",
   "pygments_lexer": "ipython3",
   "version": "3.7.3"
  }
 },
 "nbformat": 4,
 "nbformat_minor": 2
}
