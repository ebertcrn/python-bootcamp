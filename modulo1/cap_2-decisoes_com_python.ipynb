{
 "cells": [
  {
   "cell_type": "markdown",
   "metadata": {},
   "source": [
    "# Aula 2.1 - Condicional \"if\""
   ]
  },
  {
   "cell_type": "code",
   "execution_count": null,
   "metadata": {},
   "outputs": [],
   "source": [
    "# numero par ou impar\n",
    "\n",
    "number = float(input('Insira um numero: '))\n",
    "if number % 2 == 0:\n",
    "    print('Numero par')\n",
    "else:\n",
    "    print('Numero impar')"
   ]
  },
  {
   "cell_type": "code",
   "execution_count": null,
   "metadata": {},
   "outputs": [],
   "source": [
    "# numero positivo ou negativo\n",
    "\n",
    "number = float(input('Insira um numero: '))\n",
    "if number > 0:\n",
    "    print('Numero positivo')\n",
    "elif number <0:\n",
    "    print('Numero negativo')\n",
    "else:\n",
    "    print('Zero não possui sinal')"
   ]
  },
  {
   "cell_type": "markdown",
   "metadata": {},
   "source": [
    "# Aula 2.2 - \"ifs\" aninhados"
   ]
  },
  {
   "cell_type": "code",
   "execution_count": null,
   "metadata": {},
   "outputs": [],
   "source": [
    "altura = 160\n",
    "\n",
    "if 150<altura<180:\n",
    "    print('voce pode brincar')\n",
    "else:\n",
    "    print('voce nao pode brincar')"
   ]
  },
  {
   "cell_type": "markdown",
   "metadata": {},
   "source": [
    "# Aula 2.3 - If-elif-else"
   ]
  },
  {
   "cell_type": "code",
   "execution_count": null,
   "metadata": {},
   "outputs": [],
   "source": [
    "# x = int(input('Valor x: '))\n",
    "# y = int(input('Valor y: '))\n",
    "# z = int(input('Valor z: '))\n",
    "\n",
    "x = 4\n",
    "y = 4\n",
    "z = 4\n",
    "\n",
    "if x > y:\n",
    "    if x > z:\n",
    "        print('x é o maior')\n",
    "    elif x == z:\n",
    "        print('x e z são os maiores')\n",
    "    else:\n",
    "        print('z é o maior')\n",
    "elif x < y:\n",
    "    if y > z:\n",
    "        print('y é o maior')\n",
    "    elif y == z:\n",
    "        print('y e z são os maiores')\n",
    "    else:\n",
    "        print('z é o maior')\n",
    "else:\n",
    "    if x > z:\n",
    "        print('x e y são os maiores')\n",
    "    elif x < z:\n",
    "        print('z é o maior')\n",
    "    else:\n",
    "        print('Todos são iguais')"
   ]
  },
  {
   "cell_type": "markdown",
   "metadata": {},
   "source": [
    "# Aula 2.4 - Exceções"
   ]
  },
  {
   "cell_type": "markdown",
   "metadata": {},
   "source": [
    "#### Erro de Sintaxe vs Exceção"
   ]
  },
  {
   "cell_type": "code",
   "execution_count": null,
   "metadata": {},
   "outputs": [],
   "source": [
    "# erro devido a sintaxe\n",
    "print(0/0))"
   ]
  },
  {
   "cell_type": "code",
   "execution_count": null,
   "metadata": {},
   "outputs": [],
   "source": [
    "# erro de exceção\n",
    "print(0/0)"
   ]
  },
  {
   "cell_type": "code",
   "execution_count": null,
   "metadata": {},
   "outputs": [],
   "source": [
    "# gerando uma exceção\n",
    "x = 10\n",
    "if x > 5:\n",
    "    raise Exception('x não deve ser maior que 5. O valor digitado foi: {}'.format(x))\n",
    "print('...')"
   ]
  },
  {
   "cell_type": "markdown",
   "metadata": {},
   "source": [
    "Se esperamos um input do tipo inteiro e o usuário insere um float, ocorrerá um **ValueError**. \n",
    "\n",
    "Para solucionar problemas desse tipo, podemos utilizar o **Try, except:**"
   ]
  },
  {
   "cell_type": "code",
   "execution_count": null,
   "metadata": {},
   "outputs": [],
   "source": [
    "try:\n",
    "    numerador = int(input('Entre com o numerador: '))\n",
    "except ValueError: # captura apenas exceções do tipo ValueError\n",
    "    print('Você não entrou com um número inteiro.')\n",
    "    exit(0)\n",
    "    \n",
    "try:\n",
    "    denominador = int(input('Entre com o denominador: '))\n",
    "except: # lida com qualquer tipo de erro\n",
    "    print('Você não entrou com um número inteiro.')\n",
    "    exit(0)\n",
    "\n",
    "try:\n",
    "    if numerador % denominador == 0:\n",
    "        print('É divisível')\n",
    "    else:\n",
    "        print('Há resto')\n",
    "except ZeroDivisionError: # captura divisões por zero\n",
    "    print('Denominador não pode ser zero')    "
   ]
  },
  {
   "cell_type": "markdown",
   "metadata": {},
   "source": [
    "O try except auxilia o usuário a entender qual erro está ocorrendo ao rodar um programa"
   ]
  },
  {
   "cell_type": "markdown",
   "metadata": {},
   "source": [
    "#### Quando utilizar em seu código?"
   ]
  },
  {
   "cell_type": "code",
   "execution_count": null,
   "metadata": {},
   "outputs": [],
   "source": [
    "raise KeyError('Isso é o que ocorre')"
   ]
  },
  {
   "cell_type": "code",
   "execution_count": 7,
   "metadata": {},
   "outputs": [
    {
     "name": "stdout",
     "output_type": "stream",
     "text": [
      "Quero saber a idade de: ebert\n",
      "ebert tem 27 anos.\n"
     ]
    }
   ],
   "source": [
    "idades = {'ebert': 27, 'camila': 30, 'rose': 60}\n",
    "pessoa = input('Quero saber a idade de: ')\n",
    "idade = idades.get(pessoa)\n",
    "\n",
    "if idade:\n",
    "    print(f'{pessoa} tem {idade} anos.')\n",
    "else:\n",
    "    print(f'{pessoa} com idade desconhecida')"
   ]
  },
  {
   "cell_type": "code",
   "execution_count": 9,
   "metadata": {},
   "outputs": [
    {
     "name": "stdout",
     "output_type": "stream",
     "text": [
      "Quero saber a idade de: eika\n",
      "eika com idade desconhecida\n"
     ]
    }
   ],
   "source": [
    "idades = {'ebert': 27, 'camila': 30, 'rose': 60}\n",
    "pessoa = input('Quero saber a idade de: ')\n",
    "idade = idades.get(pessoa)\n",
    "\n",
    "try:\n",
    "    print(f'{pessoa} tem {idades[pessoa]} anos.')\n",
    "\n",
    "except KeyError:\n",
    "    print(f'{pessoa} com idade desconhecida')"
   ]
  }
 ],
 "metadata": {
  "kernelspec": {
   "display_name": "Python 3",
   "language": "python",
   "name": "python3"
  },
  "language_info": {
   "codemirror_mode": {
    "name": "ipython",
    "version": 3
   },
   "file_extension": ".py",
   "mimetype": "text/x-python",
   "name": "python",
   "nbconvert_exporter": "python",
   "pygments_lexer": "ipython3",
   "version": "3.7.3"
  }
 },
 "nbformat": 4,
 "nbformat_minor": 2
}
