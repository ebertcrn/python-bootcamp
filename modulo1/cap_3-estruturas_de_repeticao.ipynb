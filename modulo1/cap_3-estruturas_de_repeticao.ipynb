{
 "cells": [
  {
   "cell_type": "markdown",
   "metadata": {},
   "source": [
    "## Aula 3.1 - Introdução"
   ]
  },
  {
   "cell_type": "markdown",
   "metadata": {},
   "source": [
    "### Atenção!\n",
    "\n",
    "**referencia_ao_objeto.metodo(argumentos)**\n",
    "\n",
    "Ex:\n",
    "\n",
    "    myStr.upper()"
   ]
  },
  {
   "cell_type": "code",
   "execution_count": 1,
   "metadata": {},
   "outputs": [
    {
     "data": {
      "text/plain": [
       "'EBERT'"
      ]
     },
     "execution_count": 1,
     "metadata": {},
     "output_type": "execute_result"
    }
   ],
   "source": [
    "s = 'Ebert'\n",
    "\n",
    "s.lower() # output: 'ebert'\n",
    "s.upper() # output: 'EBERT'\n",
    "\n",
    "# help(str): apresenta todos os metodos\n",
    "# help(int)"
   ]
  },
  {
   "cell_type": "markdown",
   "metadata": {},
   "source": [
    "#### Operadores com as strings - métodos implícitos"
   ]
  },
  {
   "cell_type": "code",
   "execution_count": 2,
   "metadata": {},
   "outputs": [
    {
     "name": "stdout",
     "output_type": "stream",
     "text": [
      "nome 1 vem depois do nome 2\n"
     ]
    }
   ],
   "source": [
    "# lista\n",
    "nome1 = 'Ebert'\n",
    "nome2 = 'Camila'\n",
    "\n",
    "# operador <=\n",
    "if nome1 <= nome2:\n",
    "    print('nome 1 vem antes do nome 2')\n",
    "else:\n",
    "    print('nome 1 vem depois do nome 2')"
   ]
  },
  {
   "cell_type": "code",
   "execution_count": 3,
   "metadata": {},
   "outputs": [
    {
     "name": "stdout",
     "output_type": "stream",
     "text": [
      "nome 1 vem depois do nome 2\n"
     ]
    }
   ],
   "source": [
    "# lista\n",
    "nome1 = 'Ebert'\n",
    "nome2 = 'Camila'\n",
    "\n",
    "# método .__le__()\n",
    "if nome1.__le__(nome2):\n",
    "    print('nome 1 vem antes do nome 2')\n",
    "else:\n",
    "    print('nome 1 vem depois do nome 2')"
   ]
  },
  {
   "cell_type": "markdown",
   "metadata": {},
   "source": [
    "## Aula 3.2 - For"
   ]
  },
  {
   "cell_type": "code",
   "execution_count": 4,
   "metadata": {},
   "outputs": [
    {
     "name": "stdout",
     "output_type": "stream",
     "text": [
      "S\n",
      "E\n",
      "Q\n",
      "U\n",
      "E\n",
      "N\n",
      "C\n",
      "I\n",
      "A\n"
     ]
    }
   ],
   "source": [
    "# Iterações sobre sequências\n",
    "string = 'sequencia'\n",
    "\n",
    "for char in string:\n",
    "    print(char.upper())"
   ]
  },
  {
   "cell_type": "markdown",
   "metadata": {},
   "source": [
    "#### Listas também são uma sequência"
   ]
  },
  {
   "cell_type": "code",
   "execution_count": 5,
   "metadata": {},
   "outputs": [
    {
     "name": "stdout",
     "output_type": "stream",
     "text": [
      "IGTI\n",
      "Bootcamp\n",
      "Python\n",
      "2020\n"
     ]
    }
   ],
   "source": [
    "lista = ['IGTI', 'Bootcamp', 'Python', 2020]\n",
    "\n",
    "for elemento in lista:\n",
    "    print(elemento)"
   ]
  },
  {
   "cell_type": "markdown",
   "metadata": {},
   "source": [
    "## Aula 3.3"
   ]
  },
  {
   "cell_type": "markdown",
   "metadata": {},
   "source": [
    "#### A função (objeto) range()"
   ]
  },
  {
   "cell_type": "code",
   "execution_count": 6,
   "metadata": {},
   "outputs": [
    {
     "name": "stdout",
     "output_type": "stream",
     "text": [
      "0\n",
      "1\n",
      "2\n",
      "3\n",
      "4\n",
      "5\n",
      "6\n",
      "7\n"
     ]
    }
   ],
   "source": [
    "# range(n): começa em 0 e termina em n-1\n",
    "\n",
    "for i in range(8):\n",
    "    print(i)"
   ]
  },
  {
   "cell_type": "code",
   "execution_count": 7,
   "metadata": {
    "scrolled": true
   },
   "outputs": [
    {
     "name": "stdout",
     "output_type": "stream",
     "text": [
      "1\n",
      "2\n",
      "3\n",
      "4\n",
      "5\n"
     ]
    }
   ],
   "source": [
    "# definindo intervalos com range()\n",
    "\n",
    "for i in range(1,6):\n",
    "    print(i)"
   ]
  },
  {
   "cell_type": "code",
   "execution_count": 8,
   "metadata": {
    "scrolled": true
   },
   "outputs": [
    {
     "name": "stdout",
     "output_type": "stream",
     "text": [
      "0\n",
      "2\n",
      "4\n",
      "6\n",
      "8\n"
     ]
    }
   ],
   "source": [
    "# range(inicio, parada, incremento)\n",
    "\n",
    "for i in range(0,10,2):\n",
    "    print(i)"
   ]
  },
  {
   "cell_type": "code",
   "execution_count": 9,
   "metadata": {},
   "outputs": [
    {
     "name": "stdout",
     "output_type": "stream",
     "text": [
      "10\n",
      "8\n",
      "6\n",
      "4\n",
      "2\n"
     ]
    }
   ],
   "source": [
    "# sequencia decrescente\n",
    "\n",
    "for i in range(10,0,-2):\n",
    "    print(i)"
   ]
  },
  {
   "cell_type": "code",
   "execution_count": 10,
   "metadata": {},
   "outputs": [
    {
     "name": "stdout",
     "output_type": "stream",
     "text": [
      "t\n",
      "r\n",
      "e\n",
      "b\n",
      "e\n"
     ]
    }
   ],
   "source": [
    "# print de trás pra frente de uma string\n",
    "myStr = 'Ebert'\n",
    "\n",
    "for i in range(len(myStr)-1, -1, -1):\n",
    "    print(myStr[i].lower())"
   ]
  },
  {
   "cell_type": "code",
   "execution_count": 11,
   "metadata": {},
   "outputs": [
    {
     "name": "stdout",
     "output_type": "stream",
     "text": [
      "ebert\n",
      "de\n",
      "carvalho\n",
      "rodrigues\n",
      "neto\n",
      "Lista:  ['Ebert', 'de', 'Carvalho', 'Rodrigues', 'Neto']\n"
     ]
    }
   ],
   "source": [
    "# print de cada palavra utilizando o método split()\n",
    "myList = []\n",
    "myStr = 'Ebert de Carvalho Rodrigues Neto'\n",
    "\n",
    "for i in myStr.split():\n",
    "    myList.append(i)\n",
    "    print(i.lower())\n",
    "    \n",
    "print('Lista: ', myList)"
   ]
  },
  {
   "cell_type": "markdown",
   "metadata": {},
   "source": [
    "## Aula 3.4 - Operador \"in\""
   ]
  },
  {
   "cell_type": "code",
   "execution_count": 12,
   "metadata": {},
   "outputs": [
    {
     "name": "stdout",
     "output_type": "stream",
     "text": [
      "Não esqueça de comprar banana\n"
     ]
    }
   ],
   "source": [
    "lista_de_compras = ['detergente', 'sabao', 'banana']\n",
    "item = 'banana'\n",
    "\n",
    "if item not in lista_de_compras:\n",
    "    print('{} não consta na lista de compras'.format(item))\n",
    "else:\n",
    "    print('Não esqueça de comprar {}'.format(item))"
   ]
  },
  {
   "cell_type": "code",
   "execution_count": 13,
   "metadata": {},
   "outputs": [
    {
     "name": "stdout",
     "output_type": "stream",
     "text": [
      "Falso\n"
     ]
    }
   ],
   "source": [
    "# identificadores\n",
    "x = 'cinco'\n",
    "\n",
    "if (type(x) is int):\n",
    "    print('Verdadeiro')\n",
    "else:\n",
    "    print('Falso')"
   ]
  },
  {
   "cell_type": "code",
   "execution_count": 14,
   "metadata": {},
   "outputs": [
    {
     "name": "stdout",
     "output_type": "stream",
     "text": [
      "Verdadeiro\n"
     ]
    }
   ],
   "source": [
    "# identificadores\n",
    "x = 5.2\n",
    "\n",
    "if (type(x) is not int):\n",
    "    print('Verdadeiro')\n",
    "else:\n",
    "    print('Falso')"
   ]
  },
  {
   "cell_type": "markdown",
   "metadata": {},
   "source": [
    "#### Acumuladores"
   ]
  },
  {
   "cell_type": "code",
   "execution_count": 15,
   "metadata": {},
   "outputs": [
    {
     "name": "stdout",
     "output_type": "stream",
     "text": [
      "4\n"
     ]
    }
   ],
   "source": [
    "# contando a quantidade de numeros inteiros em uma lista\n",
    "\n",
    "strInteiros = '10 20 30 40'\n",
    "inteiros = 0\n",
    "\n",
    "for i in strInteiros.split():\n",
    "    inteiros = inteiros + 1\n",
    "print(inteiros)"
   ]
  },
  {
   "cell_type": "code",
   "execution_count": 16,
   "metadata": {},
   "outputs": [
    {
     "name": "stdout",
     "output_type": "stream",
     "text": [
      "10! = 3628800\n"
     ]
    }
   ],
   "source": [
    "# fatorial de um número\n",
    "\n",
    "n = 10\n",
    "fatorial = 1\n",
    "for i in range(1, n+1):\n",
    "    fatorial = fatorial * i\n",
    "print(str(n)+'! =', fatorial)"
   ]
  },
  {
   "cell_type": "markdown",
   "metadata": {},
   "source": [
    "## Aula 3.5 - Loop \"while\""
   ]
  },
  {
   "cell_type": "markdown",
   "metadata": {},
   "source": [
    "#### Lendo arquivos"
   ]
  },
  {
   "cell_type": "code",
   "execution_count": 17,
   "metadata": {},
   "outputs": [
    {
     "name": "stdout",
     "output_type": "stream",
     "text": [
      "linha 1: teste!!!!\n",
      "\n",
      "linha 2: \n",
      "\n",
      "linha3: ee!!linha 1: teste!!!!\n",
      "\n",
      "linha 2: \n",
      "\n",
      "linha3: ee!!linha 1: teste!!!!\n",
      "\n",
      "linha 2: \n",
      "\n",
      "linha3: ee!!linha 1: teste!!!!\n",
      "\n",
      "linha 2: \n",
      "\n",
      "linha3: ee!!linha 1: teste!!!!\n",
      "\n",
      "linha 2: \n",
      "\n",
      "linha3: ee!!linha 1: teste!!!!\n",
      "\n",
      "linha 2: \n",
      "\n",
      "linha3: ee!!linha 1: teste!!!!\n",
      "\n",
      "linha 2: \n",
      "\n",
      "linha3: ee!!linha 1: teste!!!!\n",
      "\n",
      "linha 2: \n",
      "\n",
      "linha3: ee!!linha 1: teste!!!!\n",
      "\n",
      "linha 2: \n",
      "\n",
      "linha3: ee!!linha 1: teste!!!!\n",
      "\n",
      "linha 2: \n",
      "\n",
      "linha3: ee!!linha 1: teste!!!!\n",
      "\n",
      "linha 2: \n",
      "\n",
      "linha3: ee!!linha 1: teste!!!!\n",
      "\n",
      "linha 2: \n",
      "\n",
      "linha3: ee!!linha 1: teste!!!!\n",
      "\n",
      "linha 2: \n",
      "\n",
      "linha3: ee!!linha 1: teste!!!!\n",
      "\n",
      "linha 2: \n",
      "\n",
      "linha3: ee!!linha 1: teste!!!!\n",
      "\n",
      "linha 2: \n",
      "\n",
      "linha3: ee!!linha 1: teste!!!!\n",
      "\n",
      "linha 2: \n",
      "\n",
      "linha3: ee!!linha 1: teste!!!!\n",
      "\n",
      "linha 2: \n",
      "\n",
      "linha3: ee!!linha 1: teste!!!!\n",
      "\n",
      "linha 2: \n",
      "\n",
      "linha3: ee!!linha 1: teste!!!!\n",
      "\n",
      "linha 2: \n",
      "\n",
      "linha3: ee!!linha 1: teste!!!!\n",
      "\n",
      "linha 2: \n",
      "\n",
      "linha3: ee!!\n",
      "\n",
      "\n",
      "\n",
      "\n",
      "\n",
      "\n",
      "\n",
      "\n",
      "\n",
      "\n",
      "\n",
      "\n",
      "\n",
      "\n",
      "\n",
      "\n",
      "\n",
      "FIM\n"
     ]
    }
   ],
   "source": [
    "arquivo = open('untitled.txt', 'r')\n",
    "for linhas in arquivo:\n",
    "    print(linhas)\n",
    "\n",
    "arquivo.close()"
   ]
  },
  {
   "cell_type": "code",
   "execution_count": 18,
   "metadata": {},
   "outputs": [
    {
     "name": "stdout",
     "output_type": "stream",
     "text": [
      "linha 1: teste!!!!\n",
      "linha 2:\n",
      "linha3: ee!!linha 1: teste!!!!\n",
      "linha 2:\n",
      "linha3: ee!!linha 1: teste!!!!\n",
      "linha 2:\n",
      "linha3: ee!!linha 1: teste!!!!\n",
      "linha 2:\n",
      "linha3: ee!!linha 1: teste!!!!\n",
      "linha 2:\n",
      "linha3: ee!!linha 1: teste!!!!\n",
      "linha 2:\n",
      "linha3: ee!!linha 1: teste!!!!\n",
      "linha 2:\n",
      "linha3: ee!!linha 1: teste!!!!\n",
      "linha 2:\n",
      "linha3: ee!!linha 1: teste!!!!\n",
      "linha 2:\n",
      "linha3: ee!!linha 1: teste!!!!\n",
      "linha 2:\n",
      "linha3: ee!!linha 1: teste!!!!\n",
      "linha 2:\n",
      "linha3: ee!!linha 1: teste!!!!\n",
      "linha 2:\n",
      "linha3: ee!!linha 1: teste!!!!\n",
      "linha 2:\n",
      "linha3: ee!!linha 1: teste!!!!\n",
      "linha 2:\n",
      "linha3: ee!!linha 1: teste!!!!\n",
      "linha 2:\n",
      "linha3: ee!!linha 1: teste!!!!\n",
      "linha 2:\n",
      "linha3: ee!!linha 1: teste!!!!\n",
      "linha 2:\n",
      "linha3: ee!!linha 1: teste!!!!\n",
      "linha 2:\n",
      "linha3: ee!!linha 1: teste!!!!\n",
      "linha 2:\n",
      "linha3: ee!!linha 1: teste!!!!\n",
      "linha 2:\n",
      "linha3: ee!!\n",
      "\n",
      "\n",
      "\n",
      "\n",
      "\n",
      "\n",
      "\n",
      "\n",
      "FIM\n"
     ]
    }
   ],
   "source": [
    "# retirando o \\n ao final de cada linha .rstrip()\n",
    "arquivo = open('untitled.txt', 'r')\n",
    "for linhas in arquivo:\n",
    "    print(linhas.rstrip())\n",
    "\n",
    "arquivo.close()"
   ]
  },
  {
   "cell_type": "markdown",
   "metadata": {},
   "source": [
    "#### Escrevendo um arquivo"
   ]
  },
  {
   "cell_type": "code",
   "execution_count": 19,
   "metadata": {},
   "outputs": [],
   "source": [
    "nome_do_arquivo = 'arquivo.txt'\n",
    "nome_do_autor = 'ebert rodrigues'\n",
    "idade_do_autor = 27\n",
    "cidade_do_autor = 'Florianópolis'\n",
    "\n",
    "arquivo = open(nome_do_arquivo, 'w')\n",
    "\n",
    "arquivo.write('Olá, ' + nome_do_autor + '. \\n')\n",
    "arquivo.write(nome_do_autor + ' possui ' + str(idade_do_autor) + ' anos.\\n')\n",
    "arquivo.write('Você mora em ' + cidade_do_autor + '.')\n",
    "\n",
    "arquivo.close()"
   ]
  },
  {
   "cell_type": "code",
   "execution_count": 20,
   "metadata": {},
   "outputs": [
    {
     "name": "stdout",
     "output_type": "stream",
     "text": [
      "Olá, ebert rodrigues. \n",
      "\n",
      "ebert rodrigues possui 27 anos.\n",
      "\n",
      "Você mora em Florianópolis.\n"
     ]
    }
   ],
   "source": [
    "lerArquivo = open('arquivo.txt', 'r')\n",
    "\n",
    "for linhas in lerArquivo:\n",
    "    print(linhas)\n",
    "\n",
    "lerArquivo.close()"
   ]
  },
  {
   "cell_type": "markdown",
   "metadata": {},
   "source": [
    "#### Loop While\n",
    "\n",
    "(codigos antes do while)\n",
    "\n",
    "    while **condicao**:\n",
    "    \n",
    "        (corpo do loop while)\n",
    " \n",
    "(codigos depois do while)"
   ]
  },
  {
   "cell_type": "code",
   "execution_count": 21,
   "metadata": {},
   "outputs": [
    {
     "name": "stdout",
     "output_type": "stream",
     "text": [
      "49\n"
     ]
    }
   ],
   "source": [
    "# Contador de linhas de um arquivo com while\n",
    "# (conta até as linhas em branco)\n",
    "\n",
    "arquivo = open('untitled.txt', 'r')\n",
    "linhasCount = 0\n",
    "\n",
    "# Lê a primeira linha do arquivo\n",
    "linha = arquivo.readline().rstrip()\n",
    "\n",
    "while linha != \"FIM\":\n",
    "    linhasCount = linhasCount + 1\n",
    "    linha = arquivo.readline().rstrip()\n",
    "\n",
    "print(linhasCount)\n",
    "arquivo.close()"
   ]
  },
  {
   "cell_type": "code",
   "execution_count": 22,
   "metadata": {},
   "outputs": [
    {
     "name": "stdout",
     "output_type": "stream",
     "text": [
      "1\n",
      "2\n",
      "3\n",
      "4\n",
      "5\n"
     ]
    }
   ],
   "source": [
    "i = 1\n",
    "while i < 6:\n",
    "    print(i)\n",
    "    i += 1"
   ]
  },
  {
   "cell_type": "code",
   "execution_count": 23,
   "metadata": {},
   "outputs": [
    {
     "name": "stdout",
     "output_type": "stream",
     "text": [
      "1\n",
      "2\n",
      "3\n"
     ]
    }
   ],
   "source": [
    "# break em loop while\n",
    "\n",
    "i = 1\n",
    "while i < 6:\n",
    "    print(i)\n",
    "    if i == 3:\n",
    "        break\n",
    "    i += 1"
   ]
  },
  {
   "cell_type": "code",
   "execution_count": 24,
   "metadata": {},
   "outputs": [
    {
     "name": "stdout",
     "output_type": "stream",
     "text": [
      "1\n",
      "2\n",
      "4\n",
      "5\n",
      "6\n"
     ]
    }
   ],
   "source": [
    "# continue em loop while\n",
    "\n",
    "i = 0\n",
    "while i < 6:\n",
    "    i += 1\n",
    "    if i == 3:\n",
    "        continue\n",
    "    print(i)"
   ]
  }
 ],
 "metadata": {
  "kernelspec": {
   "display_name": "Python 3",
   "language": "python",
   "name": "python3"
  },
  "language_info": {
   "codemirror_mode": {
    "name": "ipython",
    "version": 3
   },
   "file_extension": ".py",
   "mimetype": "text/x-python",
   "name": "python",
   "nbconvert_exporter": "python",
   "pygments_lexer": "ipython3",
   "version": "3.7.3"
  }
 },
 "nbformat": 4,
 "nbformat_minor": 2
}
