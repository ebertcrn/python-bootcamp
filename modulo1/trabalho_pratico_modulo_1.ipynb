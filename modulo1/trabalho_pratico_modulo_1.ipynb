{
 "cells": [
  {
   "cell_type": "markdown",
   "metadata": {},
   "source": [
    "# Trabalho Prático Módulo 1 - Fundamentos Python"
   ]
  },
  {
   "cell_type": "markdown",
   "metadata": {},
   "source": [
    "### Aluno: Ebert de Carvalho Rodrigues Neto\n",
    "### 14 de julho de 2020"
   ]
  },
  {
   "cell_type": "markdown",
   "metadata": {},
   "source": [
    "#### Código 1"
   ]
  },
  {
   "cell_type": "code",
   "execution_count": 11,
   "metadata": {
    "scrolled": true
   },
   "outputs": [
    {
     "name": "stdout",
     "output_type": "stream",
     "text": [
      "Entre com a sua idade:1\n",
      "No próximo ano você terá: 2 anos\n"
     ]
    }
   ],
   "source": [
    "idade = int(input(\"Entre com a sua idade:\"))\n",
    "nova_idade = idade + 1\n",
    "print(\"No próximo ano você terá: {} anos\".format(nova_idade))"
   ]
  },
  {
   "cell_type": "markdown",
   "metadata": {},
   "source": [
    "#### Código 2"
   ]
  },
  {
   "cell_type": "code",
   "execution_count": 17,
   "metadata": {},
   "outputs": [
    {
     "name": "stdout",
     "output_type": "stream",
     "text": [
      "O retângulo de lado A = 35 e lado B = 14 é 501.667\n"
     ]
    }
   ],
   "source": [
    "lado_a = 35\n",
    "lado_b = 14.33333\n",
    "area_do_retangulo = (lado_a)*(lado_b)\n",
    "print('O retângulo de lado A = %d e lado B = %.2d é %.3f' %(lado_a, lado_b, area_do_retangulo))"
   ]
  },
  {
   "cell_type": "markdown",
   "metadata": {},
   "source": [
    "#### Código 3"
   ]
  },
  {
   "cell_type": "code",
   "execution_count": 3,
   "metadata": {},
   "outputs": [
    {
     "name": "stdout",
     "output_type": "stream",
     "text": [
      "[1, 2, 'IGTI', 2, 3, 'Bootcamp']\n"
     ]
    }
   ],
   "source": [
    "lista_1 = [1,2,'IGTI']\n",
    "lista_2 = [2,3,'Bootcamp']\n",
    "lista_3 = lista_1 + lista_2\n",
    "print(lista_3)"
   ]
  },
  {
   "cell_type": "markdown",
   "metadata": {},
   "source": [
    "#### Código 4"
   ]
  },
  {
   "cell_type": "code",
   "execution_count": 19,
   "metadata": {},
   "outputs": [
    {
     "name": "stdout",
     "output_type": "stream",
     "text": [
      "Entre com um valor inteiro de 0 a 30: 12\n",
      "Que pena, você errou. Pode tentar outra vez.\n",
      "Obrigado por participar.\n"
     ]
    }
   ],
   "source": [
    "chute = int(input('Entre com um valor inteiro de 0 a 30: '))\n",
    "adivinhacao = [5,6,10,14,16,20,30]\n",
    "\n",
    "if chute in adivinhacao:\n",
    "    print('Você acertou um dos números que eu estava pensando.')\n",
    "\n",
    "    if chute > 15:\n",
    "        print('Esse número é maior do que 20.')\n",
    "    if chute < 20:\n",
    "        print('Esse número é menor do que 20.')\n",
    "\n",
    "    print('Você é fera.')\n",
    "\n",
    "else:\n",
    "    print('Que pena, você errou. Pode tentar outra vez.')\n",
    "\n",
    "print('Obrigado por participar.')"
   ]
  },
  {
   "cell_type": "markdown",
   "metadata": {},
   "source": [
    "#### Código 5"
   ]
  },
  {
   "cell_type": "code",
   "execution_count": 25,
   "metadata": {},
   "outputs": [
    {
     "name": "stdout",
     "output_type": "stream",
     "text": [
      "['maça', 'banana', 'uva', 'goiaba']\n",
      "maça\n",
      "banana\n"
     ]
    }
   ],
   "source": [
    "frutas = ['maça', 'banana', 'uva', 'goiaba']\n",
    "print(frutas)\n",
    "for x in frutas:\n",
    "    if x == 'uva':\n",
    "        break\n",
    "    print(x)"
   ]
  },
  {
   "cell_type": "markdown",
   "metadata": {},
   "source": [
    "#### Código 6"
   ]
  },
  {
   "cell_type": "code",
   "execution_count": 30,
   "metadata": {},
   "outputs": [
    {
     "name": "stdout",
     "output_type": "stream",
     "text": [
      "4\n",
      "3\n",
      "2\n",
      "1\n",
      "0\n"
     ]
    }
   ],
   "source": [
    "n = 5\n",
    "while n>0:\n",
    "    n -= 1\n",
    "    print(n)"
   ]
  }
 ],
 "metadata": {
  "kernelspec": {
   "display_name": "Python 3",
   "language": "python",
   "name": "python3"
  },
  "language_info": {
   "codemirror_mode": {
    "name": "ipython",
    "version": 3
   },
   "file_extension": ".py",
   "mimetype": "text/x-python",
   "name": "python",
   "nbconvert_exporter": "python",
   "pygments_lexer": "ipython3",
   "version": "3.7.3"
  }
 },
 "nbformat": 4,
 "nbformat_minor": 2
}
