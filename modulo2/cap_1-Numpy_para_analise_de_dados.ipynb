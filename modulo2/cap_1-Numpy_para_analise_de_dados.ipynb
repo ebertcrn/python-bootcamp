{
 "cells": [
  {
   "cell_type": "markdown",
   "metadata": {},
   "source": [
    "# Aula 2.1 - Introdução aos arrays"
   ]
  },
  {
   "cell_type": "markdown",
   "metadata": {},
   "source": [
    "### Arrays\n",
    "\n",
    "    shape()"
   ]
  },
  {
   "cell_type": "markdown",
   "metadata": {},
   "source": [
    "# Aula 2.2 - Criação de arrays"
   ]
  },
  {
   "cell_type": "code",
   "execution_count": 2,
   "metadata": {},
   "outputs": [],
   "source": [
    "import numpy as np"
   ]
  },
  {
   "cell_type": "code",
   "execution_count": 9,
   "metadata": {},
   "outputs": [
    {
     "name": "stdout",
     "output_type": "stream",
     "text": [
      "x:  [1 2 3]\n",
      "shape:  (3,)\n"
     ]
    }
   ],
   "source": [
    "# criação de um array 1D: [1, 2, 3]\n",
    "l = [1, 2, 3]\n",
    "x = np.array(l, dtype = int)\n",
    "\n",
    "print('x: ', x)\n",
    "print('shape: ', x.shape)"
   ]
  },
  {
   "cell_type": "code",
   "execution_count": 5,
   "metadata": {},
   "outputs": [
    {
     "name": "stdout",
     "output_type": "stream",
     "text": [
      "x:  [[1 2]\n",
      " [3 4]]\n",
      "shape:  (2, 2)\n"
     ]
    }
   ],
   "source": [
    "# criação de um array 2D: listas aninhadas\n",
    "l = [[1, 2], [3,4]]\n",
    "x = np.array(l)\n",
    "\n",
    "print('x: ', x)\n",
    "print('shape: ', x.shape)"
   ]
  },
  {
   "cell_type": "code",
   "execution_count": 6,
   "metadata": {},
   "outputs": [
    {
     "name": "stdout",
     "output_type": "stream",
     "text": [
      "x:  [[0. 0.]\n",
      " [0. 0.]]\n",
      "shape:  (2, 2)\n"
     ]
    }
   ],
   "source": [
    "# array contendo apenas 0's\n",
    "dim = (2, 2) # (linhas, colunas)\n",
    "x = np.zeros(dim)\n",
    "\n",
    "print('x: ', x)\n",
    "print('shape: ', x.shape)"
   ]
  },
  {
   "cell_type": "code",
   "execution_count": 8,
   "metadata": {},
   "outputs": [
    {
     "name": "stdout",
     "output_type": "stream",
     "text": [
      "x:  [[1. 1.]\n",
      " [1. 1.]]\n",
      "shape:  (2, 2)\n"
     ]
    }
   ],
   "source": [
    "# array contendo apenas 1's\n",
    "dim = (2, 2) # (linhas, colunas)\n",
    "x = np.ones(dim)\n",
    "\n",
    "print('x: ', x)\n",
    "print('shape: ', x.shape)"
   ]
  },
  {
   "cell_type": "code",
   "execution_count": 13,
   "metadata": {},
   "outputs": [
    {
     "name": "stdout",
     "output_type": "stream",
     "text": [
      "x:  [ 5  7  9 11 13 15]\n",
      "shape:  (6,)\n"
     ]
    }
   ],
   "source": [
    "# criação de valores dentro de um intervalo\n",
    "# valores linearmente espaçados entre 5 e 15\n",
    "x_min, x_max = 5, 15\n",
    "x = np.linspace(start = x_min, stop = x_max, num = 6, dtype = int)\n",
    "\n",
    "print('x: ', x)\n",
    "print('shape: ', x.shape)"
   ]
  },
  {
   "cell_type": "code",
   "execution_count": 14,
   "metadata": {},
   "outputs": [
    {
     "name": "stdout",
     "output_type": "stream",
     "text": [
      "x:  [[1. 0. 0. 0.]\n",
      " [0. 1. 0. 0.]\n",
      " [0. 0. 1. 0.]\n",
      " [0. 0. 0. 1.]]\n",
      "shape:  (4, 4)\n"
     ]
    }
   ],
   "source": [
    "# criação de matriz identidade\n",
    "n = 4\n",
    "x = np.eye(n)\n",
    "\n",
    "print('x: ', x)\n",
    "print('shape: ', x.shape)"
   ]
  },
  {
   "cell_type": "code",
   "execution_count": 16,
   "metadata": {
    "scrolled": true
   },
   "outputs": [
    {
     "name": "stdout",
     "output_type": "stream",
     "text": [
      "x:  [[0.29647171 0.77597367 0.10103057]\n",
      " [0.24241319 0.98901872 0.80130138]]\n",
      "shape:  (2, 3)\n"
     ]
    }
   ],
   "source": [
    "# criação de valores aleatórios\n",
    "# np.random.seed(10)\n",
    "x = np.random.random(size = (2, 3))\n",
    "\n",
    "print('x: ', x)\n",
    "print('shape: ', x.shape)"
   ]
  },
  {
   "cell_type": "markdown",
   "metadata": {},
   "source": [
    "# Aula 2.3 - Indexação de arrays"
   ]
  },
  {
   "cell_type": "markdown",
   "metadata": {},
   "source": [
    "##### Acessando elementos:\n",
    "\n",
    "- Acessando útilmo elemento de um array:\n",
    "    A[-1]\n",
    "- Acessando elementos em um array 2D: B[i,j] (indice da linha - axis 0 -, indice da coluna - axis 1)\n",
    "- Slicing: A[1:3] - pegando index 1 até 2 (3 não incluído)\n",
    "- Slicing 2D: B[1:3, 1:4] - pegando axis 0 de 1 a 2, e axis 1 de 1 a 3\n",
    "\n",
    "### OBS:\n",
    "**Ao editarmos o valor de uma entrada em um slice de um array, o valor será atualizado no array original!**"
   ]
  },
  {
   "cell_type": "markdown",
   "metadata": {},
   "source": [
    "# Aula 2.4 - Indexação de arrays (prática)"
   ]
  },
  {
   "cell_type": "code",
   "execution_count": null,
   "metadata": {},
   "outputs": [],
   "source": []
  }
 ],
 "metadata": {
  "kernelspec": {
   "display_name": "Python 3",
   "language": "python",
   "name": "python3"
  },
  "language_info": {
   "codemirror_mode": {
    "name": "ipython",
    "version": 3
   },
   "file_extension": ".py",
   "mimetype": "text/x-python",
   "name": "python",
   "nbconvert_exporter": "python",
   "pygments_lexer": "ipython3",
   "version": "3.7.6"
  }
 },
 "nbformat": 4,
 "nbformat_minor": 4
}
