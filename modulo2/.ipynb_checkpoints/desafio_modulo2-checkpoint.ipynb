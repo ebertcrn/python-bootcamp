{
 "cells": [
  {
   "cell_type": "markdown",
   "metadata": {},
   "source": [
    "# Desafio Módulo 2 - Python para a análise de dados"
   ]
  },
  {
   "cell_type": "code",
   "execution_count": 1,
   "metadata": {},
   "outputs": [],
   "source": [
    "import pandas as pd\n",
    "import numpy as np"
   ]
  },
  {
   "cell_type": "code",
   "execution_count": 3,
   "metadata": {},
   "outputs": [],
   "source": [
    "df = pd.read_csv('https://pycourse.s3.amazonaws.com/bike-sharing.csv')"
   ]
  },
  {
   "cell_type": "markdown",
   "metadata": {},
   "source": [
    "- **rec_id:** índice do registro de locação;\n",
    "- **datetime:** data;\n",
    "- **season:** estação do ano (1: inverno, 2: primavera, 3: verão, 4: outono);\n",
    "- **year:** ano (0: 2011, 1: 2012);\n",
    "- **month:** mês (1 a 12);\n",
    "- **hour:** hora do dia (0 a 23);\n",
    "- **is_holiday:** booleano indicando feriado;\n",
    "- **weekday:** dia da semana (0: domingo, 1: segunda, ..., 6: sábado);\n",
    "- **is_workingday:** booleano indicando dia útil;\n",
    "- **weather_condition:** condição do tempo (1: limpo, 2: nublado, 3: chuva leve, 4: chuva forte);\n",
    "- **temp:** temperatura escalada entre 0 e 1. Valor original em graus Celsius: -8 a 39;\n",
    "- **atemp:** sensação térmica escalada entre 0 e 1. Valor original em graus Celsius: -16 a 50;\n",
    "- **humidity:** Humidade relativa (0 a 1);\n",
    "- **windspeed:** velocidade do vento escalada entre 0 e 1 (máximo original: 67);\n",
    "- **casual:** número de locações para usuários casuais;\n",
    "- **registered:** número de locações para usuários registrados;\n",
    "- **total_count:** contador total de aluguéis (casual+registered)."
   ]
  },
  {
   "cell_type": "code",
   "execution_count": 4,
   "metadata": {},
   "outputs": [
    {
     "data": {
      "text/html": [
       "<div>\n",
       "<style scoped>\n",
       "    .dataframe tbody tr th:only-of-type {\n",
       "        vertical-align: middle;\n",
       "    }\n",
       "\n",
       "    .dataframe tbody tr th {\n",
       "        vertical-align: top;\n",
       "    }\n",
       "\n",
       "    .dataframe thead th {\n",
       "        text-align: right;\n",
       "    }\n",
       "</style>\n",
       "<table border=\"1\" class=\"dataframe\">\n",
       "  <thead>\n",
       "    <tr style=\"text-align: right;\">\n",
       "      <th></th>\n",
       "      <th>datetime</th>\n",
       "      <th>rec_id</th>\n",
       "      <th>season</th>\n",
       "      <th>year</th>\n",
       "      <th>month</th>\n",
       "      <th>hour</th>\n",
       "      <th>is_holiday</th>\n",
       "      <th>weekday</th>\n",
       "      <th>is_workingday</th>\n",
       "      <th>weather_condition</th>\n",
       "      <th>temp</th>\n",
       "      <th>atemp</th>\n",
       "      <th>humidity</th>\n",
       "      <th>windspeed</th>\n",
       "      <th>casual</th>\n",
       "      <th>registered</th>\n",
       "      <th>total_count</th>\n",
       "    </tr>\n",
       "  </thead>\n",
       "  <tbody>\n",
       "    <tr>\n",
       "      <th>0</th>\n",
       "      <td>2011-01-01</td>\n",
       "      <td>1</td>\n",
       "      <td>1</td>\n",
       "      <td>0</td>\n",
       "      <td>1</td>\n",
       "      <td>0</td>\n",
       "      <td>0</td>\n",
       "      <td>6</td>\n",
       "      <td>0</td>\n",
       "      <td>1</td>\n",
       "      <td>0.24</td>\n",
       "      <td>0.2879</td>\n",
       "      <td>0.81</td>\n",
       "      <td>0.0</td>\n",
       "      <td>3</td>\n",
       "      <td>13</td>\n",
       "      <td>16</td>\n",
       "    </tr>\n",
       "    <tr>\n",
       "      <th>1</th>\n",
       "      <td>2011-01-01</td>\n",
       "      <td>2</td>\n",
       "      <td>1</td>\n",
       "      <td>0</td>\n",
       "      <td>1</td>\n",
       "      <td>1</td>\n",
       "      <td>0</td>\n",
       "      <td>6</td>\n",
       "      <td>0</td>\n",
       "      <td>1</td>\n",
       "      <td>0.22</td>\n",
       "      <td>0.2727</td>\n",
       "      <td>0.80</td>\n",
       "      <td>0.0</td>\n",
       "      <td>8</td>\n",
       "      <td>32</td>\n",
       "      <td>40</td>\n",
       "    </tr>\n",
       "    <tr>\n",
       "      <th>2</th>\n",
       "      <td>2011-01-01</td>\n",
       "      <td>3</td>\n",
       "      <td>1</td>\n",
       "      <td>0</td>\n",
       "      <td>1</td>\n",
       "      <td>2</td>\n",
       "      <td>0</td>\n",
       "      <td>6</td>\n",
       "      <td>0</td>\n",
       "      <td>1</td>\n",
       "      <td>0.22</td>\n",
       "      <td>0.2727</td>\n",
       "      <td>0.80</td>\n",
       "      <td>0.0</td>\n",
       "      <td>5</td>\n",
       "      <td>27</td>\n",
       "      <td>32</td>\n",
       "    </tr>\n",
       "    <tr>\n",
       "      <th>3</th>\n",
       "      <td>2011-01-01</td>\n",
       "      <td>4</td>\n",
       "      <td>1</td>\n",
       "      <td>0</td>\n",
       "      <td>1</td>\n",
       "      <td>3</td>\n",
       "      <td>0</td>\n",
       "      <td>6</td>\n",
       "      <td>0</td>\n",
       "      <td>1</td>\n",
       "      <td>0.24</td>\n",
       "      <td>0.2879</td>\n",
       "      <td>0.75</td>\n",
       "      <td>0.0</td>\n",
       "      <td>3</td>\n",
       "      <td>10</td>\n",
       "      <td>13</td>\n",
       "    </tr>\n",
       "    <tr>\n",
       "      <th>4</th>\n",
       "      <td>2011-01-01</td>\n",
       "      <td>5</td>\n",
       "      <td>1</td>\n",
       "      <td>0</td>\n",
       "      <td>1</td>\n",
       "      <td>4</td>\n",
       "      <td>0</td>\n",
       "      <td>6</td>\n",
       "      <td>0</td>\n",
       "      <td>1</td>\n",
       "      <td>0.24</td>\n",
       "      <td>0.2879</td>\n",
       "      <td>0.75</td>\n",
       "      <td>0.0</td>\n",
       "      <td>0</td>\n",
       "      <td>1</td>\n",
       "      <td>1</td>\n",
       "    </tr>\n",
       "  </tbody>\n",
       "</table>\n",
       "</div>"
      ],
      "text/plain": [
       "     datetime  rec_id  season  year  month  hour  is_holiday  weekday  \\\n",
       "0  2011-01-01       1       1     0      1     0           0        6   \n",
       "1  2011-01-01       2       1     0      1     1           0        6   \n",
       "2  2011-01-01       3       1     0      1     2           0        6   \n",
       "3  2011-01-01       4       1     0      1     3           0        6   \n",
       "4  2011-01-01       5       1     0      1     4           0        6   \n",
       "\n",
       "   is_workingday  weather_condition  temp   atemp  humidity  windspeed  \\\n",
       "0              0                  1  0.24  0.2879      0.81        0.0   \n",
       "1              0                  1  0.22  0.2727      0.80        0.0   \n",
       "2              0                  1  0.22  0.2727      0.80        0.0   \n",
       "3              0                  1  0.24  0.2879      0.75        0.0   \n",
       "4              0                  1  0.24  0.2879      0.75        0.0   \n",
       "\n",
       "   casual  registered  total_count  \n",
       "0       3          13           16  \n",
       "1       8          32           40  \n",
       "2       5          27           32  \n",
       "3       3          10           13  \n",
       "4       0           1            1  "
      ]
     },
     "execution_count": 4,
     "metadata": {},
     "output_type": "execute_result"
    }
   ],
   "source": [
    "df.head()"
   ]
  },
  {
   "cell_type": "markdown",
   "metadata": {},
   "source": [
    "## Perguntas"
   ]
  },
  {
   "cell_type": "markdown",
   "metadata": {},
   "source": [
    "### a) Qual o tamanho desse dataset?"
   ]
  },
  {
   "cell_type": "code",
   "execution_count": 9,
   "metadata": {},
   "outputs": [
    {
     "name": "stdout",
     "output_type": "stream",
     "text": [
      "<class 'pandas.core.frame.DataFrame'>\n",
      "RangeIndex: 17379 entries, 0 to 17378\n",
      "Data columns (total 17 columns):\n",
      " #   Column             Non-Null Count  Dtype  \n",
      "---  ------             --------------  -----  \n",
      " 0   datetime           17379 non-null  object \n",
      " 1   rec_id             17379 non-null  int64  \n",
      " 2   season             17379 non-null  int64  \n",
      " 3   year               17379 non-null  int64  \n",
      " 4   month              17379 non-null  int64  \n",
      " 5   hour               17379 non-null  int64  \n",
      " 6   is_holiday         17379 non-null  int64  \n",
      " 7   weekday            17379 non-null  int64  \n",
      " 8   is_workingday      17379 non-null  int64  \n",
      " 9   weather_condition  17379 non-null  int64  \n",
      " 10  temp               17379 non-null  float64\n",
      " 11  atemp              17379 non-null  float64\n",
      " 12  humidity           17379 non-null  float64\n",
      " 13  windspeed          17379 non-null  float64\n",
      " 14  casual             17379 non-null  int64  \n",
      " 15  registered         17379 non-null  int64  \n",
      " 16  total_count        17379 non-null  int64  \n",
      "dtypes: float64(4), int64(12), object(1)\n",
      "memory usage: 2.3+ MB\n"
     ]
    }
   ],
   "source": [
    "df.info()\n",
    "# 17.379 entradas"
   ]
  },
  {
   "cell_type": "markdown",
   "metadata": {},
   "source": [
    "### b) Qual a média da coluna *windspeed*?"
   ]
  },
  {
   "cell_type": "code",
   "execution_count": 10,
   "metadata": {},
   "outputs": [
    {
     "data": {
      "text/plain": [
       "0.1900976063064631"
      ]
     },
     "execution_count": 10,
     "metadata": {},
     "output_type": "execute_result"
    }
   ],
   "source": [
    "df['windspeed'].mean()"
   ]
  },
  {
   "cell_type": "code",
   "execution_count": 12,
   "metadata": {},
   "outputs": [
    {
     "data": {
      "text/plain": [
       "count    17379.000000\n",
       "mean         0.190098\n",
       "std          0.122340\n",
       "min          0.000000\n",
       "25%          0.104500\n",
       "50%          0.194000\n",
       "75%          0.253700\n",
       "max          0.850700\n",
       "Name: windspeed, dtype: float64"
      ]
     },
     "execution_count": 12,
     "metadata": {},
     "output_type": "execute_result"
    }
   ],
   "source": [
    "df['windspeed'].describe()"
   ]
  },
  {
   "cell_type": "markdown",
   "metadata": {},
   "source": [
    "### c) Qual a média da coluna *temp*?"
   ]
  },
  {
   "cell_type": "code",
   "execution_count": 13,
   "metadata": {},
   "outputs": [
    {
     "data": {
      "text/plain": [
       "0.4969871684216586"
      ]
     },
     "execution_count": 13,
     "metadata": {},
     "output_type": "execute_result"
    }
   ],
   "source": [
    "df['temp'].mean()"
   ]
  },
  {
   "cell_type": "code",
   "execution_count": 14,
   "metadata": {},
   "outputs": [
    {
     "data": {
      "text/plain": [
       "count    17379.000000\n",
       "mean         0.496987\n",
       "std          0.192556\n",
       "min          0.020000\n",
       "25%          0.340000\n",
       "50%          0.500000\n",
       "75%          0.660000\n",
       "max          1.000000\n",
       "Name: temp, dtype: float64"
      ]
     },
     "execution_count": 14,
     "metadata": {},
     "output_type": "execute_result"
    }
   ],
   "source": [
    "df['temp'].describe()"
   ]
  },
  {
   "cell_type": "markdown",
   "metadata": {},
   "source": [
    "### d) Quantos registros existem para o ano de 2011?"
   ]
  },
  {
   "cell_type": "code",
   "execution_count": 16,
   "metadata": {},
   "outputs": [
    {
     "data": {
      "text/plain": [
       "8645"
      ]
     },
     "execution_count": 16,
     "metadata": {},
     "output_type": "execute_result"
    }
   ],
   "source": [
    "len(df[df['year'] == 0])"
   ]
  },
  {
   "cell_type": "code",
   "execution_count": 18,
   "metadata": {},
   "outputs": [
    {
     "data": {
      "text/plain": [
       "datetime             8645\n",
       "rec_id               8645\n",
       "season               8645\n",
       "year                 8645\n",
       "month                8645\n",
       "hour                 8645\n",
       "is_holiday           8645\n",
       "weekday              8645\n",
       "is_workingday        8645\n",
       "weather_condition    8645\n",
       "temp                 8645\n",
       "atemp                8645\n",
       "humidity             8645\n",
       "windspeed            8645\n",
       "casual               8645\n",
       "registered           8645\n",
       "total_count          8645\n",
       "dtype: int64"
      ]
     },
     "execution_count": 18,
     "metadata": {},
     "output_type": "execute_result"
    }
   ],
   "source": [
    "df[df['year'] == 0].count()"
   ]
  },
  {
   "cell_type": "code",
   "execution_count": 21,
   "metadata": {},
   "outputs": [
    {
     "data": {
      "text/html": [
       "<div>\n",
       "<style scoped>\n",
       "    .dataframe tbody tr th:only-of-type {\n",
       "        vertical-align: middle;\n",
       "    }\n",
       "\n",
       "    .dataframe tbody tr th {\n",
       "        vertical-align: top;\n",
       "    }\n",
       "\n",
       "    .dataframe thead th {\n",
       "        text-align: right;\n",
       "    }\n",
       "</style>\n",
       "<table border=\"1\" class=\"dataframe\">\n",
       "  <thead>\n",
       "    <tr style=\"text-align: right;\">\n",
       "      <th></th>\n",
       "      <th>datetime</th>\n",
       "      <th>rec_id</th>\n",
       "      <th>season</th>\n",
       "      <th>year</th>\n",
       "      <th>month</th>\n",
       "      <th>hour</th>\n",
       "      <th>is_holiday</th>\n",
       "      <th>weekday</th>\n",
       "      <th>is_workingday</th>\n",
       "      <th>weather_condition</th>\n",
       "      <th>temp</th>\n",
       "      <th>atemp</th>\n",
       "      <th>humidity</th>\n",
       "      <th>windspeed</th>\n",
       "      <th>casual</th>\n",
       "      <th>registered</th>\n",
       "      <th>total_count</th>\n",
       "    </tr>\n",
       "  </thead>\n",
       "  <tbody>\n",
       "    <tr>\n",
       "      <th>0</th>\n",
       "      <td>2011-01-01</td>\n",
       "      <td>1</td>\n",
       "      <td>1</td>\n",
       "      <td>0</td>\n",
       "      <td>1</td>\n",
       "      <td>0</td>\n",
       "      <td>0</td>\n",
       "      <td>6</td>\n",
       "      <td>0</td>\n",
       "      <td>1</td>\n",
       "      <td>0.24</td>\n",
       "      <td>0.2879</td>\n",
       "      <td>0.81</td>\n",
       "      <td>0.0000</td>\n",
       "      <td>3</td>\n",
       "      <td>13</td>\n",
       "      <td>16</td>\n",
       "    </tr>\n",
       "    <tr>\n",
       "      <th>1</th>\n",
       "      <td>2011-01-01</td>\n",
       "      <td>2</td>\n",
       "      <td>1</td>\n",
       "      <td>0</td>\n",
       "      <td>1</td>\n",
       "      <td>1</td>\n",
       "      <td>0</td>\n",
       "      <td>6</td>\n",
       "      <td>0</td>\n",
       "      <td>1</td>\n",
       "      <td>0.22</td>\n",
       "      <td>0.2727</td>\n",
       "      <td>0.80</td>\n",
       "      <td>0.0000</td>\n",
       "      <td>8</td>\n",
       "      <td>32</td>\n",
       "      <td>40</td>\n",
       "    </tr>\n",
       "    <tr>\n",
       "      <th>2</th>\n",
       "      <td>2011-01-01</td>\n",
       "      <td>3</td>\n",
       "      <td>1</td>\n",
       "      <td>0</td>\n",
       "      <td>1</td>\n",
       "      <td>2</td>\n",
       "      <td>0</td>\n",
       "      <td>6</td>\n",
       "      <td>0</td>\n",
       "      <td>1</td>\n",
       "      <td>0.22</td>\n",
       "      <td>0.2727</td>\n",
       "      <td>0.80</td>\n",
       "      <td>0.0000</td>\n",
       "      <td>5</td>\n",
       "      <td>27</td>\n",
       "      <td>32</td>\n",
       "    </tr>\n",
       "    <tr>\n",
       "      <th>3</th>\n",
       "      <td>2011-01-01</td>\n",
       "      <td>4</td>\n",
       "      <td>1</td>\n",
       "      <td>0</td>\n",
       "      <td>1</td>\n",
       "      <td>3</td>\n",
       "      <td>0</td>\n",
       "      <td>6</td>\n",
       "      <td>0</td>\n",
       "      <td>1</td>\n",
       "      <td>0.24</td>\n",
       "      <td>0.2879</td>\n",
       "      <td>0.75</td>\n",
       "      <td>0.0000</td>\n",
       "      <td>3</td>\n",
       "      <td>10</td>\n",
       "      <td>13</td>\n",
       "    </tr>\n",
       "    <tr>\n",
       "      <th>4</th>\n",
       "      <td>2011-01-01</td>\n",
       "      <td>5</td>\n",
       "      <td>1</td>\n",
       "      <td>0</td>\n",
       "      <td>1</td>\n",
       "      <td>4</td>\n",
       "      <td>0</td>\n",
       "      <td>6</td>\n",
       "      <td>0</td>\n",
       "      <td>1</td>\n",
       "      <td>0.24</td>\n",
       "      <td>0.2879</td>\n",
       "      <td>0.75</td>\n",
       "      <td>0.0000</td>\n",
       "      <td>0</td>\n",
       "      <td>1</td>\n",
       "      <td>1</td>\n",
       "    </tr>\n",
       "    <tr>\n",
       "      <th>...</th>\n",
       "      <td>...</td>\n",
       "      <td>...</td>\n",
       "      <td>...</td>\n",
       "      <td>...</td>\n",
       "      <td>...</td>\n",
       "      <td>...</td>\n",
       "      <td>...</td>\n",
       "      <td>...</td>\n",
       "      <td>...</td>\n",
       "      <td>...</td>\n",
       "      <td>...</td>\n",
       "      <td>...</td>\n",
       "      <td>...</td>\n",
       "      <td>...</td>\n",
       "      <td>...</td>\n",
       "      <td>...</td>\n",
       "      <td>...</td>\n",
       "    </tr>\n",
       "    <tr>\n",
       "      <th>8640</th>\n",
       "      <td>2011-12-31</td>\n",
       "      <td>8641</td>\n",
       "      <td>1</td>\n",
       "      <td>0</td>\n",
       "      <td>12</td>\n",
       "      <td>19</td>\n",
       "      <td>0</td>\n",
       "      <td>6</td>\n",
       "      <td>0</td>\n",
       "      <td>1</td>\n",
       "      <td>0.42</td>\n",
       "      <td>0.4242</td>\n",
       "      <td>0.54</td>\n",
       "      <td>0.2239</td>\n",
       "      <td>19</td>\n",
       "      <td>73</td>\n",
       "      <td>92</td>\n",
       "    </tr>\n",
       "    <tr>\n",
       "      <th>8641</th>\n",
       "      <td>2011-12-31</td>\n",
       "      <td>8642</td>\n",
       "      <td>1</td>\n",
       "      <td>0</td>\n",
       "      <td>12</td>\n",
       "      <td>20</td>\n",
       "      <td>0</td>\n",
       "      <td>6</td>\n",
       "      <td>0</td>\n",
       "      <td>1</td>\n",
       "      <td>0.42</td>\n",
       "      <td>0.4242</td>\n",
       "      <td>0.54</td>\n",
       "      <td>0.2239</td>\n",
       "      <td>8</td>\n",
       "      <td>63</td>\n",
       "      <td>71</td>\n",
       "    </tr>\n",
       "    <tr>\n",
       "      <th>8642</th>\n",
       "      <td>2011-12-31</td>\n",
       "      <td>8643</td>\n",
       "      <td>1</td>\n",
       "      <td>0</td>\n",
       "      <td>12</td>\n",
       "      <td>21</td>\n",
       "      <td>0</td>\n",
       "      <td>6</td>\n",
       "      <td>0</td>\n",
       "      <td>1</td>\n",
       "      <td>0.40</td>\n",
       "      <td>0.4091</td>\n",
       "      <td>0.58</td>\n",
       "      <td>0.1940</td>\n",
       "      <td>2</td>\n",
       "      <td>50</td>\n",
       "      <td>52</td>\n",
       "    </tr>\n",
       "    <tr>\n",
       "      <th>8643</th>\n",
       "      <td>2011-12-31</td>\n",
       "      <td>8644</td>\n",
       "      <td>1</td>\n",
       "      <td>0</td>\n",
       "      <td>12</td>\n",
       "      <td>22</td>\n",
       "      <td>0</td>\n",
       "      <td>6</td>\n",
       "      <td>0</td>\n",
       "      <td>1</td>\n",
       "      <td>0.38</td>\n",
       "      <td>0.3939</td>\n",
       "      <td>0.62</td>\n",
       "      <td>0.1343</td>\n",
       "      <td>2</td>\n",
       "      <td>36</td>\n",
       "      <td>38</td>\n",
       "    </tr>\n",
       "    <tr>\n",
       "      <th>8644</th>\n",
       "      <td>2011-12-31</td>\n",
       "      <td>8645</td>\n",
       "      <td>1</td>\n",
       "      <td>0</td>\n",
       "      <td>12</td>\n",
       "      <td>23</td>\n",
       "      <td>0</td>\n",
       "      <td>6</td>\n",
       "      <td>0</td>\n",
       "      <td>1</td>\n",
       "      <td>0.36</td>\n",
       "      <td>0.3788</td>\n",
       "      <td>0.66</td>\n",
       "      <td>0.0000</td>\n",
       "      <td>4</td>\n",
       "      <td>27</td>\n",
       "      <td>31</td>\n",
       "    </tr>\n",
       "  </tbody>\n",
       "</table>\n",
       "<p>8645 rows × 17 columns</p>\n",
       "</div>"
      ],
      "text/plain": [
       "        datetime  rec_id  season  year  month  hour  is_holiday  weekday  \\\n",
       "0     2011-01-01       1       1     0      1     0           0        6   \n",
       "1     2011-01-01       2       1     0      1     1           0        6   \n",
       "2     2011-01-01       3       1     0      1     2           0        6   \n",
       "3     2011-01-01       4       1     0      1     3           0        6   \n",
       "4     2011-01-01       5       1     0      1     4           0        6   \n",
       "...          ...     ...     ...   ...    ...   ...         ...      ...   \n",
       "8640  2011-12-31    8641       1     0     12    19           0        6   \n",
       "8641  2011-12-31    8642       1     0     12    20           0        6   \n",
       "8642  2011-12-31    8643       1     0     12    21           0        6   \n",
       "8643  2011-12-31    8644       1     0     12    22           0        6   \n",
       "8644  2011-12-31    8645       1     0     12    23           0        6   \n",
       "\n",
       "      is_workingday  weather_condition  temp   atemp  humidity  windspeed  \\\n",
       "0                 0                  1  0.24  0.2879      0.81     0.0000   \n",
       "1                 0                  1  0.22  0.2727      0.80     0.0000   \n",
       "2                 0                  1  0.22  0.2727      0.80     0.0000   \n",
       "3                 0                  1  0.24  0.2879      0.75     0.0000   \n",
       "4                 0                  1  0.24  0.2879      0.75     0.0000   \n",
       "...             ...                ...   ...     ...       ...        ...   \n",
       "8640              0                  1  0.42  0.4242      0.54     0.2239   \n",
       "8641              0                  1  0.42  0.4242      0.54     0.2239   \n",
       "8642              0                  1  0.40  0.4091      0.58     0.1940   \n",
       "8643              0                  1  0.38  0.3939      0.62     0.1343   \n",
       "8644              0                  1  0.36  0.3788      0.66     0.0000   \n",
       "\n",
       "      casual  registered  total_count  \n",
       "0          3          13           16  \n",
       "1          8          32           40  \n",
       "2          5          27           32  \n",
       "3          3          10           13  \n",
       "4          0           1            1  \n",
       "...      ...         ...          ...  \n",
       "8640      19          73           92  \n",
       "8641       8          63           71  \n",
       "8642       2          50           52  \n",
       "8643       2          36           38  \n",
       "8644       4          27           31  \n",
       "\n",
       "[8645 rows x 17 columns]"
      ]
     },
     "execution_count": 21,
     "metadata": {},
     "output_type": "execute_result"
    }
   ],
   "source": [
    "df[df['year'] == 0]"
   ]
  },
  {
   "cell_type": "markdown",
   "metadata": {},
   "source": [
    "### e) Quantos registros existem para o ano de 2012?"
   ]
  },
  {
   "cell_type": "code",
   "execution_count": 23,
   "metadata": {},
   "outputs": [
    {
     "data": {
      "text/plain": [
       "8734"
      ]
     },
     "execution_count": 23,
     "metadata": {},
     "output_type": "execute_result"
    }
   ],
   "source": [
    "len(df[df['year'] == 1])"
   ]
  },
  {
   "cell_type": "code",
   "execution_count": 25,
   "metadata": {},
   "outputs": [
    {
     "data": {
      "text/plain": [
       "datetime             8734\n",
       "rec_id               8734\n",
       "season               8734\n",
       "year                 8734\n",
       "month                8734\n",
       "hour                 8734\n",
       "is_holiday           8734\n",
       "weekday              8734\n",
       "is_workingday        8734\n",
       "weather_condition    8734\n",
       "temp                 8734\n",
       "atemp                8734\n",
       "humidity             8734\n",
       "windspeed            8734\n",
       "casual               8734\n",
       "registered           8734\n",
       "total_count          8734\n",
       "dtype: int64"
      ]
     },
     "execution_count": 25,
     "metadata": {},
     "output_type": "execute_result"
    }
   ],
   "source": [
    "df[df['year'] == 1].count()"
   ]
  },
  {
   "cell_type": "code",
   "execution_count": 28,
   "metadata": {},
   "outputs": [
    {
     "data": {
      "text/html": [
       "<div>\n",
       "<style scoped>\n",
       "    .dataframe tbody tr th:only-of-type {\n",
       "        vertical-align: middle;\n",
       "    }\n",
       "\n",
       "    .dataframe tbody tr th {\n",
       "        vertical-align: top;\n",
       "    }\n",
       "\n",
       "    .dataframe thead th {\n",
       "        text-align: right;\n",
       "    }\n",
       "</style>\n",
       "<table border=\"1\" class=\"dataframe\">\n",
       "  <thead>\n",
       "    <tr style=\"text-align: right;\">\n",
       "      <th></th>\n",
       "      <th>datetime</th>\n",
       "      <th>rec_id</th>\n",
       "      <th>season</th>\n",
       "      <th>year</th>\n",
       "      <th>month</th>\n",
       "      <th>hour</th>\n",
       "      <th>is_holiday</th>\n",
       "      <th>weekday</th>\n",
       "      <th>is_workingday</th>\n",
       "      <th>weather_condition</th>\n",
       "      <th>temp</th>\n",
       "      <th>atemp</th>\n",
       "      <th>humidity</th>\n",
       "      <th>windspeed</th>\n",
       "      <th>casual</th>\n",
       "      <th>registered</th>\n",
       "      <th>total_count</th>\n",
       "    </tr>\n",
       "  </thead>\n",
       "  <tbody>\n",
       "    <tr>\n",
       "      <th>8645</th>\n",
       "      <td>2012-01-01</td>\n",
       "      <td>8646</td>\n",
       "      <td>1</td>\n",
       "      <td>1</td>\n",
       "      <td>1</td>\n",
       "      <td>0</td>\n",
       "      <td>0</td>\n",
       "      <td>0</td>\n",
       "      <td>0</td>\n",
       "      <td>1</td>\n",
       "      <td>0.36</td>\n",
       "      <td>0.3788</td>\n",
       "      <td>0.66</td>\n",
       "      <td>0.0000</td>\n",
       "      <td>5</td>\n",
       "      <td>43</td>\n",
       "      <td>48</td>\n",
       "    </tr>\n",
       "    <tr>\n",
       "      <th>8646</th>\n",
       "      <td>2012-01-01</td>\n",
       "      <td>8647</td>\n",
       "      <td>1</td>\n",
       "      <td>1</td>\n",
       "      <td>1</td>\n",
       "      <td>1</td>\n",
       "      <td>0</td>\n",
       "      <td>0</td>\n",
       "      <td>0</td>\n",
       "      <td>1</td>\n",
       "      <td>0.36</td>\n",
       "      <td>0.3485</td>\n",
       "      <td>0.66</td>\n",
       "      <td>0.1343</td>\n",
       "      <td>15</td>\n",
       "      <td>78</td>\n",
       "      <td>93</td>\n",
       "    </tr>\n",
       "    <tr>\n",
       "      <th>8647</th>\n",
       "      <td>2012-01-01</td>\n",
       "      <td>8648</td>\n",
       "      <td>1</td>\n",
       "      <td>1</td>\n",
       "      <td>1</td>\n",
       "      <td>2</td>\n",
       "      <td>0</td>\n",
       "      <td>0</td>\n",
       "      <td>0</td>\n",
       "      <td>1</td>\n",
       "      <td>0.32</td>\n",
       "      <td>0.3485</td>\n",
       "      <td>0.76</td>\n",
       "      <td>0.0000</td>\n",
       "      <td>16</td>\n",
       "      <td>59</td>\n",
       "      <td>75</td>\n",
       "    </tr>\n",
       "    <tr>\n",
       "      <th>8648</th>\n",
       "      <td>2012-01-01</td>\n",
       "      <td>8649</td>\n",
       "      <td>1</td>\n",
       "      <td>1</td>\n",
       "      <td>1</td>\n",
       "      <td>3</td>\n",
       "      <td>0</td>\n",
       "      <td>0</td>\n",
       "      <td>0</td>\n",
       "      <td>1</td>\n",
       "      <td>0.30</td>\n",
       "      <td>0.3333</td>\n",
       "      <td>0.81</td>\n",
       "      <td>0.0000</td>\n",
       "      <td>11</td>\n",
       "      <td>41</td>\n",
       "      <td>52</td>\n",
       "    </tr>\n",
       "    <tr>\n",
       "      <th>8649</th>\n",
       "      <td>2012-01-01</td>\n",
       "      <td>8650</td>\n",
       "      <td>1</td>\n",
       "      <td>1</td>\n",
       "      <td>1</td>\n",
       "      <td>4</td>\n",
       "      <td>0</td>\n",
       "      <td>0</td>\n",
       "      <td>0</td>\n",
       "      <td>1</td>\n",
       "      <td>0.28</td>\n",
       "      <td>0.3030</td>\n",
       "      <td>0.81</td>\n",
       "      <td>0.0896</td>\n",
       "      <td>0</td>\n",
       "      <td>8</td>\n",
       "      <td>8</td>\n",
       "    </tr>\n",
       "    <tr>\n",
       "      <th>...</th>\n",
       "      <td>...</td>\n",
       "      <td>...</td>\n",
       "      <td>...</td>\n",
       "      <td>...</td>\n",
       "      <td>...</td>\n",
       "      <td>...</td>\n",
       "      <td>...</td>\n",
       "      <td>...</td>\n",
       "      <td>...</td>\n",
       "      <td>...</td>\n",
       "      <td>...</td>\n",
       "      <td>...</td>\n",
       "      <td>...</td>\n",
       "      <td>...</td>\n",
       "      <td>...</td>\n",
       "      <td>...</td>\n",
       "      <td>...</td>\n",
       "    </tr>\n",
       "    <tr>\n",
       "      <th>17374</th>\n",
       "      <td>2012-12-31</td>\n",
       "      <td>17375</td>\n",
       "      <td>1</td>\n",
       "      <td>1</td>\n",
       "      <td>12</td>\n",
       "      <td>19</td>\n",
       "      <td>0</td>\n",
       "      <td>1</td>\n",
       "      <td>1</td>\n",
       "      <td>2</td>\n",
       "      <td>0.26</td>\n",
       "      <td>0.2576</td>\n",
       "      <td>0.60</td>\n",
       "      <td>0.1642</td>\n",
       "      <td>11</td>\n",
       "      <td>108</td>\n",
       "      <td>119</td>\n",
       "    </tr>\n",
       "    <tr>\n",
       "      <th>17375</th>\n",
       "      <td>2012-12-31</td>\n",
       "      <td>17376</td>\n",
       "      <td>1</td>\n",
       "      <td>1</td>\n",
       "      <td>12</td>\n",
       "      <td>20</td>\n",
       "      <td>0</td>\n",
       "      <td>1</td>\n",
       "      <td>1</td>\n",
       "      <td>2</td>\n",
       "      <td>0.26</td>\n",
       "      <td>0.2576</td>\n",
       "      <td>0.60</td>\n",
       "      <td>0.1642</td>\n",
       "      <td>8</td>\n",
       "      <td>81</td>\n",
       "      <td>89</td>\n",
       "    </tr>\n",
       "    <tr>\n",
       "      <th>17376</th>\n",
       "      <td>2012-12-31</td>\n",
       "      <td>17377</td>\n",
       "      <td>1</td>\n",
       "      <td>1</td>\n",
       "      <td>12</td>\n",
       "      <td>21</td>\n",
       "      <td>0</td>\n",
       "      <td>1</td>\n",
       "      <td>1</td>\n",
       "      <td>1</td>\n",
       "      <td>0.26</td>\n",
       "      <td>0.2576</td>\n",
       "      <td>0.60</td>\n",
       "      <td>0.1642</td>\n",
       "      <td>7</td>\n",
       "      <td>83</td>\n",
       "      <td>90</td>\n",
       "    </tr>\n",
       "    <tr>\n",
       "      <th>17377</th>\n",
       "      <td>2012-12-31</td>\n",
       "      <td>17378</td>\n",
       "      <td>1</td>\n",
       "      <td>1</td>\n",
       "      <td>12</td>\n",
       "      <td>22</td>\n",
       "      <td>0</td>\n",
       "      <td>1</td>\n",
       "      <td>1</td>\n",
       "      <td>1</td>\n",
       "      <td>0.26</td>\n",
       "      <td>0.2727</td>\n",
       "      <td>0.56</td>\n",
       "      <td>0.1343</td>\n",
       "      <td>13</td>\n",
       "      <td>48</td>\n",
       "      <td>61</td>\n",
       "    </tr>\n",
       "    <tr>\n",
       "      <th>17378</th>\n",
       "      <td>2012-12-31</td>\n",
       "      <td>17379</td>\n",
       "      <td>1</td>\n",
       "      <td>1</td>\n",
       "      <td>12</td>\n",
       "      <td>23</td>\n",
       "      <td>0</td>\n",
       "      <td>1</td>\n",
       "      <td>1</td>\n",
       "      <td>1</td>\n",
       "      <td>0.26</td>\n",
       "      <td>0.2727</td>\n",
       "      <td>0.65</td>\n",
       "      <td>0.1343</td>\n",
       "      <td>12</td>\n",
       "      <td>37</td>\n",
       "      <td>49</td>\n",
       "    </tr>\n",
       "  </tbody>\n",
       "</table>\n",
       "<p>8734 rows × 17 columns</p>\n",
       "</div>"
      ],
      "text/plain": [
       "         datetime  rec_id  season  year  month  hour  is_holiday  weekday  \\\n",
       "8645   2012-01-01    8646       1     1      1     0           0        0   \n",
       "8646   2012-01-01    8647       1     1      1     1           0        0   \n",
       "8647   2012-01-01    8648       1     1      1     2           0        0   \n",
       "8648   2012-01-01    8649       1     1      1     3           0        0   \n",
       "8649   2012-01-01    8650       1     1      1     4           0        0   \n",
       "...           ...     ...     ...   ...    ...   ...         ...      ...   \n",
       "17374  2012-12-31   17375       1     1     12    19           0        1   \n",
       "17375  2012-12-31   17376       1     1     12    20           0        1   \n",
       "17376  2012-12-31   17377       1     1     12    21           0        1   \n",
       "17377  2012-12-31   17378       1     1     12    22           0        1   \n",
       "17378  2012-12-31   17379       1     1     12    23           0        1   \n",
       "\n",
       "       is_workingday  weather_condition  temp   atemp  humidity  windspeed  \\\n",
       "8645               0                  1  0.36  0.3788      0.66     0.0000   \n",
       "8646               0                  1  0.36  0.3485      0.66     0.1343   \n",
       "8647               0                  1  0.32  0.3485      0.76     0.0000   \n",
       "8648               0                  1  0.30  0.3333      0.81     0.0000   \n",
       "8649               0                  1  0.28  0.3030      0.81     0.0896   \n",
       "...              ...                ...   ...     ...       ...        ...   \n",
       "17374              1                  2  0.26  0.2576      0.60     0.1642   \n",
       "17375              1                  2  0.26  0.2576      0.60     0.1642   \n",
       "17376              1                  1  0.26  0.2576      0.60     0.1642   \n",
       "17377              1                  1  0.26  0.2727      0.56     0.1343   \n",
       "17378              1                  1  0.26  0.2727      0.65     0.1343   \n",
       "\n",
       "       casual  registered  total_count  \n",
       "8645        5          43           48  \n",
       "8646       15          78           93  \n",
       "8647       16          59           75  \n",
       "8648       11          41           52  \n",
       "8649        0           8            8  \n",
       "...       ...         ...          ...  \n",
       "17374      11         108          119  \n",
       "17375       8          81           89  \n",
       "17376       7          83           90  \n",
       "17377      13          48           61  \n",
       "17378      12          37           49  \n",
       "\n",
       "[8734 rows x 17 columns]"
      ]
     },
     "execution_count": 28,
     "metadata": {},
     "output_type": "execute_result"
    }
   ],
   "source": [
    "df[df['year'] == 1]"
   ]
  },
  {
   "cell_type": "markdown",
   "metadata": {},
   "source": [
    "### f) Quantas locações de bicicletas foram efetuadas em 2011?"
   ]
  },
  {
   "cell_type": "code",
   "execution_count": 30,
   "metadata": {},
   "outputs": [
    {
     "data": {
      "text/plain": [
       "1243103"
      ]
     },
     "execution_count": 30,
     "metadata": {},
     "output_type": "execute_result"
    }
   ],
   "source": [
    "sum(df[df['year'] == 0]['total_count'])"
   ]
  },
  {
   "cell_type": "markdown",
   "metadata": {},
   "source": [
    "### g) Quantas locações de bicicletas foram efetuadas em 2012?"
   ]
  },
  {
   "cell_type": "code",
   "execution_count": 35,
   "metadata": {},
   "outputs": [
    {
     "data": {
      "text/plain": [
       "2049576"
      ]
     },
     "execution_count": 35,
     "metadata": {},
     "output_type": "execute_result"
    }
   ],
   "source": [
    "sum(df[df['year'] == 1]['total_count'])"
   ]
  },
  {
   "cell_type": "markdown",
   "metadata": {},
   "source": [
    "### h) Qual estação do ano contém a maior média de locações de bicicletas?"
   ]
  },
  {
   "cell_type": "code",
   "execution_count": 39,
   "metadata": {},
   "outputs": [
    {
     "data": {
      "text/plain": [
       "array([1, 2, 3, 4])"
      ]
     },
     "execution_count": 39,
     "metadata": {},
     "output_type": "execute_result"
    }
   ],
   "source": [
    "# conferindo se existem as 4 estações do ano\n",
    "df['season'].unique()"
   ]
  },
  {
   "cell_type": "code",
   "execution_count": 75,
   "metadata": {},
   "outputs": [
    {
     "data": {
      "text/plain": [
       "season\n",
       "3    236.016237\n",
       "2    208.344069\n",
       "4    198.868856\n",
       "1    111.114569\n",
       "Name: total_count, dtype: float64"
      ]
     },
     "execution_count": 75,
     "metadata": {},
     "output_type": "execute_result"
    }
   ],
   "source": [
    "# utilizando groupby para determinar o ranking de locações\n",
    "df.groupby(by='season')['total_count'].mean().sort_values(ascending = False)\n",
    "# 1: inverno, 2: primavera, 3: verão, 4: outono"
   ]
  },
  {
   "cell_type": "markdown",
   "metadata": {},
   "source": [
    "### i) Qual estação do ano contém a menor média de locações de bicicletas?"
   ]
  },
  {
   "cell_type": "code",
   "execution_count": 74,
   "metadata": {},
   "outputs": [
    {
     "data": {
      "text/plain": [
       "season\n",
       "1    111.114569\n",
       "4    198.868856\n",
       "2    208.344069\n",
       "3    236.016237\n",
       "Name: total_count, dtype: float64"
      ]
     },
     "execution_count": 74,
     "metadata": {},
     "output_type": "execute_result"
    }
   ],
   "source": [
    "df.groupby(by='season')['total_count'].mean().sort_values(ascending = True)\n",
    "# 1: inverno, 2: primavera, 3: verão, 4: outono"
   ]
  },
  {
   "cell_type": "markdown",
   "metadata": {},
   "source": [
    "### j) Qual horário do dia contém a maior média de locações de bicicletas?"
   ]
  },
  {
   "cell_type": "code",
   "execution_count": 77,
   "metadata": {},
   "outputs": [
    {
     "data": {
      "text/plain": [
       "array([ 0,  1,  2,  3,  4,  5,  6,  7,  8,  9, 10, 11, 12, 13, 14, 15, 16,\n",
       "       17, 18, 19, 20, 21, 22, 23])"
      ]
     },
     "execution_count": 77,
     "metadata": {},
     "output_type": "execute_result"
    }
   ],
   "source": [
    "# conferindo se existem as 24 horas do dia\n",
    "df['hour'].unique()"
   ]
  },
  {
   "cell_type": "code",
   "execution_count": 82,
   "metadata": {},
   "outputs": [
    {
     "data": {
      "text/plain": [
       "hour\n",
       "17    461.452055\n",
       "18    425.510989\n",
       "8     359.011004\n",
       "16    311.983562\n",
       "19    311.523352\n",
       "13    253.661180\n",
       "12    253.315934\n",
       "15    251.233196\n",
       "14    240.949246\n",
       "20    226.030220\n",
       "9     219.309491\n",
       "7     212.064649\n",
       "11    208.143054\n",
       "10    173.668501\n",
       "21    172.314560\n",
       "22    131.335165\n",
       "23     87.831044\n",
       "6      76.044138\n",
       "0      53.898072\n",
       "1      33.375691\n",
       "2      22.869930\n",
       "5      19.889819\n",
       "3      11.727403\n",
       "4       6.352941\n",
       "Name: total_count, dtype: float64"
      ]
     },
     "execution_count": 82,
     "metadata": {},
     "output_type": "execute_result"
    }
   ],
   "source": [
    "df.groupby(by='hour')['total_count'].mean().sort_values(ascending = False)"
   ]
  },
  {
   "cell_type": "markdown",
   "metadata": {},
   "source": [
    "### k) Qual horário do dia contém a menor média de locações de bicicletas?"
   ]
  },
  {
   "cell_type": "code",
   "execution_count": 83,
   "metadata": {},
   "outputs": [
    {
     "data": {
      "text/plain": [
       "hour\n",
       "4       6.352941\n",
       "3      11.727403\n",
       "5      19.889819\n",
       "2      22.869930\n",
       "1      33.375691\n",
       "0      53.898072\n",
       "6      76.044138\n",
       "23     87.831044\n",
       "22    131.335165\n",
       "21    172.314560\n",
       "10    173.668501\n",
       "11    208.143054\n",
       "7     212.064649\n",
       "9     219.309491\n",
       "20    226.030220\n",
       "14    240.949246\n",
       "15    251.233196\n",
       "12    253.315934\n",
       "13    253.661180\n",
       "19    311.523352\n",
       "16    311.983562\n",
       "8     359.011004\n",
       "18    425.510989\n",
       "17    461.452055\n",
       "Name: total_count, dtype: float64"
      ]
     },
     "execution_count": 83,
     "metadata": {},
     "output_type": "execute_result"
    }
   ],
   "source": [
    "df.groupby(by='hour')['total_count'].mean().sort_values(ascending = True)"
   ]
  },
  {
   "cell_type": "markdown",
   "metadata": {},
   "source": [
    "### l) Que dia da semana contém a maior média de locações de bicicletas?"
   ]
  },
  {
   "cell_type": "code",
   "execution_count": 85,
   "metadata": {},
   "outputs": [
    {
     "data": {
      "text/plain": [
       "array([6, 0, 1, 2, 3, 4, 5])"
      ]
     },
     "execution_count": 85,
     "metadata": {},
     "output_type": "execute_result"
    }
   ],
   "source": [
    "# conferindo se existem os 7 dias da semana\n",
    "df['weekday'].unique()"
   ]
  },
  {
   "cell_type": "code",
   "execution_count": 89,
   "metadata": {},
   "outputs": [
    {
     "data": {
      "text/plain": [
       "weekday\n",
       "4    196.436665\n",
       "5    196.135907\n",
       "2    191.238891\n",
       "3    191.130505\n",
       "6    190.209793\n",
       "1    183.744655\n",
       "0    177.468825\n",
       "Name: total_count, dtype: float64"
      ]
     },
     "execution_count": 89,
     "metadata": {},
     "output_type": "execute_result"
    }
   ],
   "source": [
    "df.groupby(by='weekday')['total_count'].mean().sort_values(ascending = False)\n",
    "# 4: quinta feira"
   ]
  },
  {
   "cell_type": "markdown",
   "metadata": {},
   "source": [
    "### m) Que dia da semana contém a menor média de locações de bicicletas?"
   ]
  },
  {
   "cell_type": "code",
   "execution_count": 91,
   "metadata": {},
   "outputs": [
    {
     "data": {
      "text/plain": [
       "weekday\n",
       "0    177.468825\n",
       "1    183.744655\n",
       "6    190.209793\n",
       "3    191.130505\n",
       "2    191.238891\n",
       "5    196.135907\n",
       "4    196.436665\n",
       "Name: total_count, dtype: float64"
      ]
     },
     "execution_count": 91,
     "metadata": {},
     "output_type": "execute_result"
    }
   ],
   "source": [
    "df.groupby(by='weekday')['total_count'].mean().sort_values(ascending = True)\n",
    "# 0: domingo"
   ]
  },
  {
   "cell_type": "markdown",
   "metadata": {},
   "source": [
    "### n) Às quartas-feiras (`weekday = 3`), qual o horário do dia contém a maior média de locações de bicicletas?"
   ]
  },
  {
   "cell_type": "code",
   "execution_count": 110,
   "metadata": {},
   "outputs": [
    {
     "data": {
      "text/plain": [
       "hour\n",
       "17    513.144231\n",
       "18    494.029126\n",
       "8     488.326923\n",
       "19    357.504854\n",
       "7     303.980769\n",
       "16    272.961538\n",
       "20    256.660194\n",
       "9     238.528846\n",
       "21    194.669903\n",
       "12    193.903846\n",
       "13    185.826923\n",
       "15    181.288462\n",
       "14    170.548077\n",
       "11    152.201923\n",
       "22    143.689320\n",
       "10    131.894231\n",
       "6     107.807692\n",
       "23     83.737864\n",
       "0      34.557692\n",
       "5      25.750000\n",
       "1      15.336538\n",
       "2       7.813725\n",
       "4       4.968750\n",
       "3       4.888889\n",
       "Name: total_count, dtype: float64"
      ]
     },
     "execution_count": 110,
     "metadata": {},
     "output_type": "execute_result"
    }
   ],
   "source": [
    "df[df['weekday'] == 3].groupby(by='hour')['total_count'].mean().sort_values(ascending = False)"
   ]
  },
  {
   "cell_type": "markdown",
   "metadata": {},
   "source": [
    "### o) Aos sábados (`weekday = 6`), qual o horário do dia contém a maior média de locações de bicicletas?"
   ]
  },
  {
   "cell_type": "code",
   "execution_count": 111,
   "metadata": {},
   "outputs": [
    {
     "data": {
      "text/plain": [
       "hour\n",
       "13    385.371429\n",
       "15    382.428571\n",
       "14    381.333333\n",
       "12    375.380952\n",
       "16    366.142857\n",
       "17    334.409524\n",
       "11    328.609524\n",
       "18    292.048077\n",
       "10    263.723810\n",
       "19    239.932692\n",
       "9     186.790476\n",
       "20    180.865385\n",
       "21    156.000000\n",
       "22    139.663462\n",
       "23    115.855769\n",
       "8     114.476190\n",
       "0      94.304762\n",
       "1      67.780952\n",
       "2      50.495238\n",
       "7      45.961905\n",
       "3      22.885714\n",
       "6      21.000000\n",
       "5       8.291262\n",
       "4       7.657143\n",
       "Name: total_count, dtype: float64"
      ]
     },
     "execution_count": 111,
     "metadata": {},
     "output_type": "execute_result"
    }
   ],
   "source": [
    "df[df['weekday'] == 6].groupby(by='hour')['total_count'].mean().sort_values(ascending = False)"
   ]
  }
 ],
 "metadata": {
  "kernelspec": {
   "display_name": "Python 3",
   "language": "python",
   "name": "python3"
  },
  "language_info": {
   "codemirror_mode": {
    "name": "ipython",
    "version": 3
   },
   "file_extension": ".py",
   "mimetype": "text/x-python",
   "name": "python",
   "nbconvert_exporter": "python",
   "pygments_lexer": "ipython3",
   "version": "3.7.6"
  }
 },
 "nbformat": 4,
 "nbformat_minor": 4
}
