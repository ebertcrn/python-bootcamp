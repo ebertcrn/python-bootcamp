{
 "cells": [
  {
   "cell_type": "markdown",
   "metadata": {},
   "source": [
    "# Aula 2.1 - Introdução aos arrays"
   ]
  },
  {
   "cell_type": "markdown",
   "metadata": {},
   "source": [
    "### Arrays\n",
    "\n",
    "    shape()"
   ]
  },
  {
   "cell_type": "markdown",
   "metadata": {},
   "source": [
    "# Aula 2.2 - Criação de arrays"
   ]
  },
  {
   "cell_type": "code",
   "execution_count": 1,
   "metadata": {},
   "outputs": [],
   "source": [
    "import numpy as np"
   ]
  },
  {
   "cell_type": "code",
   "execution_count": 2,
   "metadata": {},
   "outputs": [
    {
     "name": "stdout",
     "output_type": "stream",
     "text": [
      "x:  [1 2 3]\n",
      "shape:  (3,)\n"
     ]
    }
   ],
   "source": [
    "# criação de um array 1D: [1, 2, 3]\n",
    "l = [1, 2, 3]\n",
    "x = np.array(l, dtype = int)\n",
    "\n",
    "print('x: ', x)\n",
    "print('shape: ', x.shape)"
   ]
  },
  {
   "cell_type": "code",
   "execution_count": 3,
   "metadata": {},
   "outputs": [
    {
     "name": "stdout",
     "output_type": "stream",
     "text": [
      "x:  [[1 2]\n",
      " [3 4]]\n",
      "shape:  (2, 2)\n"
     ]
    }
   ],
   "source": [
    "# criação de um array 2D: listas aninhadas\n",
    "l = [[1, 2], [3,4]]\n",
    "x = np.array(l)\n",
    "\n",
    "print('x: ', x)\n",
    "print('shape: ', x.shape)"
   ]
  },
  {
   "cell_type": "code",
   "execution_count": 4,
   "metadata": {},
   "outputs": [
    {
     "name": "stdout",
     "output_type": "stream",
     "text": [
      "x:  [[0. 0.]\n",
      " [0. 0.]]\n",
      "shape:  (2, 2)\n"
     ]
    }
   ],
   "source": [
    "# array contendo apenas 0's\n",
    "dim = (2, 2) # (linhas, colunas)\n",
    "x = np.zeros(dim)\n",
    "\n",
    "print('x: ', x)\n",
    "print('shape: ', x.shape)"
   ]
  },
  {
   "cell_type": "code",
   "execution_count": 5,
   "metadata": {},
   "outputs": [
    {
     "name": "stdout",
     "output_type": "stream",
     "text": [
      "x:  [[1. 1.]\n",
      " [1. 1.]]\n",
      "shape:  (2, 2)\n"
     ]
    }
   ],
   "source": [
    "# array contendo apenas 1's\n",
    "dim = (2, 2) # (linhas, colunas)\n",
    "x = np.ones(dim)\n",
    "\n",
    "print('x: ', x)\n",
    "print('shape: ', x.shape)"
   ]
  },
  {
   "cell_type": "code",
   "execution_count": 6,
   "metadata": {},
   "outputs": [
    {
     "name": "stdout",
     "output_type": "stream",
     "text": [
      "x:  [ 5  7  9 11 13 15]\n",
      "shape:  (6,)\n"
     ]
    }
   ],
   "source": [
    "# criação de valores dentro de um intervalo\n",
    "# valores linearmente espaçados entre 5 e 15\n",
    "x_min, x_max = 5, 15\n",
    "x = np.linspace(start = x_min, stop = x_max, num = 6, dtype = int)\n",
    "\n",
    "print('x: ', x)\n",
    "print('shape: ', x.shape)"
   ]
  },
  {
   "cell_type": "code",
   "execution_count": 7,
   "metadata": {},
   "outputs": [
    {
     "name": "stdout",
     "output_type": "stream",
     "text": [
      "x:  [[1. 0. 0. 0.]\n",
      " [0. 1. 0. 0.]\n",
      " [0. 0. 1. 0.]\n",
      " [0. 0. 0. 1.]]\n",
      "shape:  (4, 4)\n"
     ]
    }
   ],
   "source": [
    "# criação de matriz identidade\n",
    "n = 4\n",
    "x = np.eye(n)\n",
    "\n",
    "print('x: ', x)\n",
    "print('shape: ', x.shape)"
   ]
  },
  {
   "cell_type": "code",
   "execution_count": 8,
   "metadata": {
    "scrolled": true
   },
   "outputs": [
    {
     "name": "stdout",
     "output_type": "stream",
     "text": [
      "x:  [[0.18534314 0.01659454 0.3149664 ]\n",
      " [0.28378555 0.72561987 0.64479083]]\n",
      "shape:  (2, 3)\n"
     ]
    }
   ],
   "source": [
    "# criação de valores aleatórios\n",
    "# np.random.seed(10)\n",
    "x = np.random.random(size = (2, 3))\n",
    "\n",
    "print('x: ', x)\n",
    "print('shape: ', x.shape)"
   ]
  },
  {
   "cell_type": "markdown",
   "metadata": {},
   "source": [
    "# Aula 2.3 - Indexação de arrays"
   ]
  },
  {
   "cell_type": "markdown",
   "metadata": {},
   "source": [
    "##### Acessando elementos:\n",
    "\n",
    "- Acessando útilmo elemento de um array:\n",
    "    A[-1]\n",
    "- Acessando elementos em um array 2D: B[i,j] (indice da linha - axis 0 -, indice da coluna - axis 1)\n",
    "- Slicing: A[1:3] - pegando index 1 até 2 (3 não incluído)\n",
    "- Slicing 2D: B[1:3, 1:4] - pegando axis 0 de 1 a 2, e axis 1 de 1 a 3\n",
    "\n",
    "### OBS:\n",
    "**Ao editarmos o valor de uma entrada em um slice de um array, o valor será atualizado no array original!**"
   ]
  },
  {
   "cell_type": "markdown",
   "metadata": {},
   "source": [
    "# Aula 2.4 - Indexação de arrays (prática)"
   ]
  },
  {
   "cell_type": "code",
   "execution_count": 9,
   "metadata": {},
   "outputs": [
    {
     "name": "stdout",
     "output_type": "stream",
     "text": [
      "x: [ 10.  20.  30.  40.  50.  60.  70.  80.  90. 100.]\n",
      "shape: (10,)\n"
     ]
    }
   ],
   "source": [
    "x = np.linspace(start = 10, stop = 100, num = 10)\n",
    "print(\"x:\", x)\n",
    "print(\"shape:\", x.shape)"
   ]
  },
  {
   "cell_type": "code",
   "execution_count": 10,
   "metadata": {},
   "outputs": [
    {
     "name": "stdout",
     "output_type": "stream",
     "text": [
      "x: [ 10.  20.  30.  40.  50.  60.  70.  80.  90. 100.]\n",
      "primeiro elemento:  10.0\n",
      "ultimo elemento:  100.0\n"
     ]
    }
   ],
   "source": [
    "# extração de elementos\n",
    "print(\"x:\", x)\n",
    "print('primeiro elemento: ', x[0])\n",
    "print('ultimo elemento: ', x[-1])"
   ]
  },
  {
   "cell_type": "code",
   "execution_count": 16,
   "metadata": {},
   "outputs": [
    {
     "name": "stdout",
     "output_type": "stream",
     "text": [
      "x: [[ 10.  20.  30.  40.  50.]\n",
      " [ 60.  70.  80.  90. 100.]]\n",
      "dois primeiros elementos: \n",
      " [[ 10.  20.  30.  40.  50.]\n",
      " [ 60.  70.  80.  90. 100.]]\n",
      "dois ultimos elementos: \n",
      " [[ 10.  20.  30.  40.  50.]\n",
      " [ 60.  70.  80.  90. 100.]]\n"
     ]
    }
   ],
   "source": [
    "# slicing: extração de subarrays\n",
    "\n",
    "print('x:', x)\n",
    "print('dois primeiros elementos: \\n', x[0:2])\n",
    "print('dois ultimos elementos: \\n', x[-2:])# acessando os 2 ultimos elementos"
   ]
  },
  {
   "cell_type": "code",
   "execution_count": 12,
   "metadata": {},
   "outputs": [
    {
     "name": "stdout",
     "output_type": "stream",
     "text": [
      "x:\n",
      " [[ 10.  20.  30.  40.  50.]\n",
      " [ 60.  70.  80.  90. 100.]]\n"
     ]
    }
   ],
   "source": [
    "# slicing em arrays 2D (matrizes)\n",
    "x = x.reshape(2, 5)\n",
    "print('x:\\n', x)"
   ]
  },
  {
   "cell_type": "code",
   "execution_count": 17,
   "metadata": {},
   "outputs": [
    {
     "name": "stdout",
     "output_type": "stream",
     "text": [
      "primeira linha, segunda coluna:  20.0\n"
     ]
    }
   ],
   "source": [
    "print('primeira linha, segunda coluna: ', x[0,1])"
   ]
  },
  {
   "cell_type": "code",
   "execution_count": 25,
   "metadata": {},
   "outputs": [
    {
     "name": "stdout",
     "output_type": "stream",
     "text": [
      "x antes: [1 2 3]\n",
      "x depois: [-100    2    3]\n"
     ]
    }
   ],
   "source": [
    "# atenção com compartilhamento de memória em subarrays\n",
    "x = np.array([1, 2, 3])\n",
    "print('x antes:', x)\n",
    "y = x[:2]\n",
    "y[0] = -100 # alteração do valor em y altera o valor de x\n",
    "print('x depois:', x)"
   ]
  },
  {
   "cell_type": "code",
   "execution_count": 29,
   "metadata": {},
   "outputs": [
    {
     "name": "stdout",
     "output_type": "stream",
     "text": [
      "x antes: [1 2 3]\n",
      "x depois: [1 2 3]\n"
     ]
    }
   ],
   "source": [
    "# SOLUÇÃO\n",
    "x = np.array([1, 2, 3])\n",
    "print('x antes:', x)\n",
    "y = x[:2].copy() # USAR O COPY!\n",
    "y[0] = -100 # alteração do valor em y altera o valor de x\n",
    "print('x depois:', x)"
   ]
  },
  {
   "cell_type": "markdown",
   "metadata": {},
   "source": [
    "# Aulas 2.5, 2.6 e 2.7 - Operações aritméticas"
   ]
  },
  {
   "cell_type": "markdown",
   "metadata": {},
   "source": [
    "Operações aritméticas elemento a elemento:\n",
    "- Soma\n",
    "    - Sobrecarga de operador '+'\n",
    "    - np.add\n",
    "- Subtração\n",
    "    - Sobrecarga de operador '-'\n",
    "    - np.subtract\n",
    "- Divisão:\n",
    "    - Sobrecarga de operador '/'\n",
    "    - np.divide\n",
    "- Multiplicação\n",
    "    - Sobrecarga de operador '*'\n",
    "    - np.multiply\n",
    "- Multiplicação de matrizes:\n",
    "    - `np.dot(A,B`\n",
    "    - `A.dot(B)`"
   ]
  },
  {
   "cell_type": "code",
   "execution_count": 30,
   "metadata": {},
   "outputs": [],
   "source": [
    "x = np.ones((2, 2))\n",
    "y = np. eye(2)"
   ]
  },
  {
   "cell_type": "code",
   "execution_count": 37,
   "metadata": {},
   "outputs": [
    {
     "name": "stdout",
     "output_type": "stream",
     "text": [
      "x + 2:\n",
      " [[3. 3.]\n",
      " [3. 3.]]\n",
      "x + y:\n",
      " [[2. 1.]\n",
      " [1. 2.]]\n"
     ]
    }
   ],
   "source": [
    "# soma:\n",
    "print('x + 2:\\n', x + 2) # broadcasting\n",
    "\n",
    "print('x + y:\\n', x + y)"
   ]
  },
  {
   "cell_type": "code",
   "execution_count": 38,
   "metadata": {},
   "outputs": [
    {
     "name": "stdout",
     "output_type": "stream",
     "text": [
      "x - 2:\n",
      " [[-1. -1.]\n",
      " [-1. -1.]]\n",
      "x - y:\n",
      " [[0. 1.]\n",
      " [1. 0.]]\n"
     ]
    }
   ],
   "source": [
    "# subtração:\n",
    "print('x - 2:\\n', x - 2) # broadcasting\n",
    "\n",
    "print('x - y:\\n', x - y)"
   ]
  },
  {
   "cell_type": "code",
   "execution_count": 39,
   "metadata": {},
   "outputs": [
    {
     "name": "stdout",
     "output_type": "stream",
     "text": [
      "x / 2:\n",
      " [[0.5 0.5]\n",
      " [0.5 0.5]]\n",
      "x / y:\n",
      " [[ 1. inf]\n",
      " [inf  1.]]\n"
     ]
    },
    {
     "name": "stderr",
     "output_type": "stream",
     "text": [
      "/home/ebert/anaconda3/lib/python3.7/site-packages/ipykernel_launcher.py:4: RuntimeWarning: divide by zero encountered in true_divide\n",
      "  after removing the cwd from sys.path.\n"
     ]
    }
   ],
   "source": [
    "# divisão:\n",
    "print('x / 2:\\n', x / 2) # broadcasting\n",
    "\n",
    "print('x / y:\\n', x / y)"
   ]
  },
  {
   "cell_type": "code",
   "execution_count": 40,
   "metadata": {},
   "outputs": [
    {
     "name": "stdout",
     "output_type": "stream",
     "text": [
      "x * 2:\n",
      " [[2. 2.]\n",
      " [2. 2.]]\n",
      "x * y:\n",
      " [[1. 0.]\n",
      " [0. 1.]]\n"
     ]
    }
   ],
   "source": [
    "# multiplicação:\n",
    "print('x * 2:\\n', x * 2) # broadcasting\n",
    "\n",
    "print('x * y:\\n', x * y)"
   ]
  },
  {
   "cell_type": "code",
   "execution_count": 43,
   "metadata": {},
   "outputs": [
    {
     "ename": "ValueError",
     "evalue": "operands could not be broadcast together with shapes (3,) (2,) ",
     "output_type": "error",
     "traceback": [
      "\u001b[0;31m---------------------------------------------------------------------------\u001b[0m",
      "\u001b[0;31mValueError\u001b[0m                                Traceback (most recent call last)",
      "\u001b[0;32m<ipython-input-43-73f9801047f0>\u001b[0m in \u001b[0;36m<module>\u001b[0;34m\u001b[0m\n\u001b[1;32m      1\u001b[0m \u001b[0;31m# erro no broadcasting\u001b[0m\u001b[0;34m\u001b[0m\u001b[0;34m\u001b[0m\u001b[0;34m\u001b[0m\u001b[0m\n\u001b[0;32m----> 2\u001b[0;31m \u001b[0mnp\u001b[0m\u001b[0;34m.\u001b[0m\u001b[0marray\u001b[0m\u001b[0;34m(\u001b[0m\u001b[0;34m[\u001b[0m\u001b[0;36m1\u001b[0m\u001b[0;34m,\u001b[0m \u001b[0;36m2\u001b[0m\u001b[0;34m,\u001b[0m \u001b[0;36m3\u001b[0m\u001b[0;34m]\u001b[0m\u001b[0;34m)\u001b[0m \u001b[0;34m+\u001b[0m \u001b[0mnp\u001b[0m\u001b[0;34m.\u001b[0m\u001b[0marray\u001b[0m\u001b[0;34m(\u001b[0m\u001b[0;34m[\u001b[0m\u001b[0;36m1\u001b[0m\u001b[0;34m,\u001b[0m \u001b[0;36m2\u001b[0m\u001b[0;34m]\u001b[0m\u001b[0;34m)\u001b[0m\u001b[0;34m\u001b[0m\u001b[0;34m\u001b[0m\u001b[0m\n\u001b[0m",
      "\u001b[0;31mValueError\u001b[0m: operands could not be broadcast together with shapes (3,) (2,) "
     ]
    }
   ],
   "source": [
    "# erro no broadcasting\n",
    "np.array([1, 2, 3]) + np.array([1, 2])"
   ]
  },
  {
   "cell_type": "markdown",
   "metadata": {},
   "source": [
    "#### Operações matriciais"
   ]
  },
  {
   "cell_type": "code",
   "execution_count": 46,
   "metadata": {},
   "outputs": [
    {
     "name": "stdout",
     "output_type": "stream",
     "text": [
      "x:\n",
      " [[1. 1.]\n",
      " [1. 1.]]\n",
      "y: \n",
      " [[1. 0.]\n",
      " [0. 1.]]\n"
     ]
    }
   ],
   "source": [
    "print('x:\\n', x)\n",
    "print('y: \\n', y)"
   ]
  },
  {
   "cell_type": "code",
   "execution_count": 52,
   "metadata": {},
   "outputs": [
    {
     "name": "stdout",
     "output_type": "stream",
     "text": [
      "np.dot: \n",
      " [[1. 1.]\n",
      " [1. 1.]]\n",
      "x @ y: \n",
      " [[1. 1.]\n",
      " [1. 1.]]\n",
      "x.dot(y):\n",
      "  [[1. 1.]\n",
      " [1. 1.]]\n"
     ]
    }
   ],
   "source": [
    "# multiplicação matricial\n",
    "print('np.dot: \\n', np.dot(x, y))\n",
    "print('x @ y: \\n', x @ y)\n",
    "print('x.dot(y):\\n ', x.dot(y))\n"
   ]
  },
  {
   "cell_type": "code",
   "execution_count": 48,
   "metadata": {},
   "outputs": [
    {
     "name": "stderr",
     "output_type": "stream",
     "text": [
      "/home/ebert/anaconda3/lib/python3.7/site-packages/ipykernel_launcher.py:2: RuntimeWarning: divide by zero encountered in true_divide\n",
      "  \n"
     ]
    },
    {
     "data": {
      "text/plain": [
       "array([[ 1., inf],\n",
       "       [inf,  1.]])"
      ]
     },
     "execution_count": 48,
     "metadata": {},
     "output_type": "execute_result"
    }
   ],
   "source": [
    "# divisão matricial\n",
    "np.divide(x, y)"
   ]
  },
  {
   "cell_type": "code",
   "execution_count": 49,
   "metadata": {},
   "outputs": [
    {
     "data": {
      "text/plain": [
       "array([[2., 1.],\n",
       "       [1., 2.]])"
      ]
     },
     "execution_count": 49,
     "metadata": {},
     "output_type": "execute_result"
    }
   ],
   "source": [
    "# soma matricial\n",
    "np.add(x, y)"
   ]
  },
  {
   "cell_type": "code",
   "execution_count": 50,
   "metadata": {},
   "outputs": [
    {
     "data": {
      "text/plain": [
       "array([[0., 1.],\n",
       "       [1., 0.]])"
      ]
     },
     "execution_count": 50,
     "metadata": {},
     "output_type": "execute_result"
    }
   ],
   "source": [
    "# subtração matricial\n",
    "np.subtract(x, y)"
   ]
  },
  {
   "cell_type": "code",
   "execution_count": 53,
   "metadata": {},
   "outputs": [
    {
     "name": "stdout",
     "output_type": "stream",
     "text": [
      "A: \n",
      " [[ 1  2]\n",
      " [ 3 -2]]\n",
      "C: \n",
      " [[  7]\n",
      " [-11]]\n"
     ]
    }
   ],
   "source": [
    "'''\n",
    "Exemplo:\n",
    "Solução de um sistema de equações:\n",
    "    a + 2*b = 7\n",
    "    3*a - 2*b = -11\n",
    "    solução analítica: (a, b) = (-1, 4)\n",
    "\n",
    "Matricialmente, este problema tem a seguinte forma:\n",
    "    Ax = c, onde:\n",
    "        x = [a, b]\n",
    "        A = [[1, 2], [3, -2]]\n",
    "        C = [7, -11]\n",
    "        solução numérica: x = inv(A) @ c\n",
    "'''\n",
    "\n",
    "# definição do problema\n",
    "A = np.array([[1, 2], [3, -2]])\n",
    "C = np.array([[7], [-11]])\n",
    "print('A: \\n', A)\n",
    "print('C: \\n', C)"
   ]
  },
  {
   "cell_type": "code",
   "execution_count": 61,
   "metadata": {},
   "outputs": [
    {
     "name": "stdout",
     "output_type": "stream",
     "text": [
      "(a, b): [-1.  4.]\n"
     ]
    }
   ],
   "source": [
    "# solução\n",
    "x = np.dot(np.linalg.inv(A), C)\n",
    "# ou:\n",
    "# x = np.linalg.inv(A) @ C\n",
    "print('(a, b):', x.ravel())"
   ]
  },
  {
   "cell_type": "markdown",
   "metadata": {},
   "source": [
    "# Aulas 2.8 e 2.9- Comparações e indexação booleana"
   ]
  },
  {
   "cell_type": "code",
   "execution_count": 63,
   "metadata": {},
   "outputs": [
    {
     "name": "stdout",
     "output_type": "stream",
     "text": [
      "A:  [1 2 3]\n",
      "Condição:  [ True  True False]\n",
      "D:  [1 2]\n"
     ]
    }
   ],
   "source": [
    "# indexação booleana (operações de filtro)\n",
    "A = np.array([1, 2, 3])\n",
    "cond = A <= 2\n",
    "D = A[cond]\n",
    "print(\"A: \", A)\n",
    "print('Condição: ', cond)\n",
    "print('D: ', D)"
   ]
  },
  {
   "cell_type": "markdown",
   "metadata": {},
   "source": [
    "# Aula 2.10 - Operações úteis no numpy"
   ]
  },
  {
   "cell_type": "markdown",
   "metadata": {},
   "source": [
    "Seja X uma matriz n x m:\n",
    "\n",
    "- Mudar o shape: `X.reshape(linhas, colunas)`\n",
    "\n",
    "- Transposição de matriz: `X.T`\n",
    "\n",
    "- Soma ao longo das linhas: `np.sum(X, axis = 0)`\n",
    "\n",
    "- Soma ao longo das colunas: `np.sum(X, axis = 1)`\n",
    "\n",
    "- Média de todos os elementos da matriz: `np.mean(X)`\n",
    "\n",
    "- `i, j = np.where(condicao)` localiza o índice buscado em uma matriz"
   ]
  },
  {
   "cell_type": "markdown",
   "metadata": {},
   "source": [
    "# Aula 2.11 - Regressão linear no numpy: conceitos básicos\n",
    "\n",
    "- Definir uma função que melhor descreve um conjunto de pontos\n",
    "\n",
    "- Critério comumente utilizado é o **erro quadrático**\n",
    "\n",
    "- `f(x) = y = ax + b`\n",
    "\n",
    "- Regressão linear: `(X^T*X)^-1*X^T*y`"
   ]
  }
 ],
 "metadata": {
  "kernelspec": {
   "display_name": "Python 3",
   "language": "python",
   "name": "python3"
  },
  "language_info": {
   "codemirror_mode": {
    "name": "ipython",
    "version": 3
   },
   "file_extension": ".py",
   "mimetype": "text/x-python",
   "name": "python",
   "nbconvert_exporter": "python",
   "pygments_lexer": "ipython3",
   "version": "3.7.6"
  }
 },
 "nbformat": 4,
 "nbformat_minor": 4
}
